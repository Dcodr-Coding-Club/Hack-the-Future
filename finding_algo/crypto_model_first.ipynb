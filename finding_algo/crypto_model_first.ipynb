{
 "cells": [
  {
   "cell_type": "code",
   "execution_count": 4,
   "metadata": {},
   "outputs": [],
   "source": [
    "import pandas as pd\n",
    "import numpy as np"
   ]
  },
  {
   "cell_type": "code",
   "execution_count": 5,
   "metadata": {},
   "outputs": [],
   "source": [
    "df = pd.read_csv('cryptography_dataset_processed.csv')\n",
    "\n",
    "y = df['Algorithm']\n",
    "\n",
    "X = df.drop(['Algorithm'], axis=1)"
   ]
  },
  {
   "cell_type": "code",
   "execution_count": 4,
   "metadata": {},
   "outputs": [
    {
     "data": {
      "application/vnd.microsoft.datawrangler.viewer.v0+json": {
       "columns": [
        {
         "name": "index",
         "rawType": "int64",
         "type": "integer"
        },
        {
         "name": "Key",
         "rawType": "object",
         "type": "string"
        },
        {
         "name": "Ciphertext",
         "rawType": "object",
         "type": "string"
        },
        {
         "name": "Key Length (bits)",
         "rawType": "float64",
         "type": "float"
        },
        {
         "name": "Ciphertext Length (bytes)",
         "rawType": "float64",
         "type": "float"
        }
       ],
       "conversionMethod": "pd.DataFrame",
       "ref": "edf0b504-f455-4cd9-8e98-ced338cd7b28",
       "rows": [
        [
         "0",
         "ef7d8f79011629e953bf4f7738317bb5",
         "5bff23c6f03e37c1",
         "0.0368663594470046",
         "0.0"
        ],
        [
         "1",
         "3453d3b1750432cf",
         "b1366a30a0c3b8f68093c601b061180d",
         "0.0",
         "0.032258064516129"
        ],
        [
         "2",
         "df3445340794dcce3d07bcc1ad375ece524ab5d001073b08",
         "c0917f1c9df3d9b3965ac26779314db5",
         "0.0737327188940092",
         "0.032258064516129"
        ],
        [
         "3",
         "-----BEGIN PUBLIC KEY-----\nMIIBIjANBgkqhkiG9w0BAQEFAAOCAQ8AMIIBCgKCAQEA5IEK/qdgEJeAnSWuchr7\n7ke1A/CpWSaXyUBOH4qPdE0SXhJrZSTmooNrEId9KzElz2PtJBGbhAP+2wKRSLSa\niSMtk0ukTL1yCfHmp8TjmNv+ytbiAUftlyDS1qUsM7ep1S4wSWzSaKv/1OP2+xpe\ntPvKKHluJwPK7k/9B4G3kBLfI/xjEI/ozJ8s8L9Ykj8qnJzy2kiMNBQGX1j9rTOw\nwXtQcJUoRPBGUAm+2+Quipw+laV3O6aah/H+JcAK0/y+OlOdyZ7KB/yaenIMwkrW\nSC4u/Qnnm6Q+P1I+6CPWY9lH54uvZJZii6qX1BPFax+oJpOVc28i6iFyhQHtFxbA\nYwIDAQAB\n-----END PUBLIC KEY-----",
         "c20b03112d92b17d2daaac7e868fd6b697f436a03f8dbbfc1c7d906ea41c0d1dd608b8d3629c49c265910d1cffde6da9fbcf9707a6c90dbee1f2af5c7e8ea061573ad25d6fc2c38b8a239e3e4eb9801212484a75a5bf09750b8328e8105ed8b6f4bd1d6409b724b11589f8f4ca622f16788aaa87049015cf2bb3a7f91ec10f7b807cbefd1d83169e29cc56d16ed0cd35de28e2ecf12a13ee70637d013e25e2aa7f664847fa73b7fa82f2c0493d05a30f24b077ef2802d446688140673c7962c41797b5707713b249833d674e02247c976b1e475b7234469c890dc695acb50176a60a3f6791822106a4de54bc6085de9ed0991e455d8bc687e79e73c6251813f3",
         "1.0",
         "1.0"
        ],
        [
         "4",
         "1db0711ab8922217c4bf74c613073d8c",
         "428aba00a39ee506e87c1b2924e8e219",
         "0.0368663594470046",
         "0.032258064516129"
        ],
        [
         "5",
         "512b5f2d1a321d153a02d016923f9c7e378fdee9a941b616ec8d13f13d9eca64",
         "67ff31a6e56d56c7",
         "0.1105990783410138",
         "0.0"
        ],
        [
         "6",
         "ac00a3dca0c15196bcb93b3db659cd4d",
         "a533bf211c0fe76a",
         "0.0368663594470046",
         "0.0"
        ],
        [
         "7",
         "4e72b14da50963db01b7acd2e6f0d6c6",
         "6578616d706c6530",
         "0.0368663594470046",
         "0.0"
        ],
        [
         "8",
         "553aa4ed4ae95b23ce209dc2af231f00",
         "6578616d706c6530",
         "0.0368663594470046",
         "0.0"
        ],
        [
         "9",
         "2180c9df16161669eaf15a3eaad36a0c",
         "6578616d706c6530",
         "0.0368663594470046",
         "0.0"
        ],
        [
         "10",
         "-----BEGIN PUBLIC KEY-----\nMFkwEwYHKoZIzj0CAQYIKoZIzj0DAQcDQgAEFFiONDsFxxsXJjEC+2H4+g/8d/BW\n4uC8KOD3qW4SqEWajQrgQpmNWqB4VMbGJJ5LJ83vGMa1HUw/w9oCFXcAaA==\n-----END PUBLIC KEY-----\n",
         "6578616d706c6530",
         "0.3732718894009216",
         "0.0"
        ],
        [
         "11",
         "ba999e4245dc7a2839c47d7c0b644595f83a640f0efea3493dccf11a998a2dfe",
         "6578616d706c6530",
         "0.1105990783410138",
         "0.0"
        ],
        [
         "12",
         "e7c5f11df412c6b56ebe1c9b1098d0c0",
         "4e02bc53f52edb54",
         "0.0368663594470046",
         "0.0"
        ],
        [
         "13",
         "42ed995fa68e29ae",
         "05a45549f4b28bcb31f028c91ce35627",
         "0.0",
         "0.032258064516129"
        ],
        [
         "14",
         "04f7e54fc252495ec2fd806b7376dc0279b029d69eec32ce",
         "08d0ee2933abbfc2ebd5bdb238a389d6",
         "0.0737327188940092",
         "0.032258064516129"
        ],
        [
         "15",
         "-----BEGIN PUBLIC KEY-----\nMIIBIjANBgkqhkiG9w0BAQEFAAOCAQ8AMIIBCgKCAQEAmJXT8HsK6C0zPOQprTC9\nI9ApdJv/ShJ8+he4OJVnWq3KAhyeiFhq0AOYPZJMY77S2pEdpaNmHX+DQS166r47\nOjeukD7gSbuT9Mf/Epx0HJd+xLqfTrkREIvDSVe8wPXdoIjxok8wfDs+2PFDHtTs\nyobbJsvTvy8hPnbcbpHiXgjrazek0vnp7CmTKdN7BM/KBKmb67lTTTaQOfIhvVWm\nVJLMpSXb54FeDFS1d0mCsCcBeippHUaU9RreoC6gQDxnKXwjahDfiIM5m3a1HdGl\n24X5sy+bE8ffDweI7Jxj3jWLdIYoiicd30chKM/Ma/KXI+8DqP/9oq+aWHEJ8bIk\noQIDAQAB\n-----END PUBLIC KEY-----",
         "5bd9409b7a0bda4911ace7c99ad350dac17930c24df292fad8e6a9c6139c267d0344cdf3c4c62c027885ec6c57936650a36c06174f65d526d786ac4e52ca863efb6f3e6037b4697fea44be20895eea13fa6b754a23f1f6abae7163ddd6df48d6845454559fe3a2e8fc4eb0273aa98a52e31cd3ddacd3d65eefde5d38ca314a26aeba93b35b090485ab5aba23c48f4ec62ae95f782a07dbcb8f761e44e799288a835a02dab196d2369b62a674758815869a836db4fd84d6e2d9d8761980c352294858abb56123f082c7056e275a11e3bf0f4f20ff4e86400f4aa31d2bbbc9e9059df9166b7fede9281c5ee0d0af286c75bc68f33f3157fda5289d2a874b367356",
         "1.0",
         "1.0"
        ],
        [
         "16",
         "d8176e7183f52c528ce5ae9797154d47",
         "709a8fecf0691a9614261cd144ccfe59",
         "0.0368663594470046",
         "0.032258064516129"
        ],
        [
         "17",
         "8d784a852db11e17bf7e3ead00258245954233275fa2d1da5827398a8326ea6d",
         "18e1951271c510cb",
         "0.1105990783410138",
         "0.0"
        ],
        [
         "18",
         "2b55100039b31ae31f7646b149ed53db",
         "733db82915fa9aa4",
         "0.0368663594470046",
         "0.0"
        ],
        [
         "19",
         "4b873d99b3f7c0dad4c2680a4241c187",
         "6578616d706c6531",
         "0.0368663594470046",
         "0.0"
        ],
        [
         "20",
         "c6fb1b4e120ec0c5791a4105611ff610",
         "6578616d706c6531",
         "0.0368663594470046",
         "0.0"
        ],
        [
         "21",
         "ac8ff05d51e827ca66669e69cf2b4c3d",
         "6578616d706c6531",
         "0.0368663594470046",
         "0.0"
        ],
        [
         "22",
         "-----BEGIN PUBLIC KEY-----\nMFkwEwYHKoZIzj0CAQYIKoZIzj0DAQcDQgAE17/111EaGyCE8B/SfK+sJ+eZ3RKh\nHCEiHGZ39KQEFUWbXj5/nfQgXmm6ymtSt7iQCvXIOH15m0qOzEFPXfJ59g==\n-----END PUBLIC KEY-----\n",
         "6578616d706c6531",
         "0.3732718894009216",
         "0.0"
        ],
        [
         "23",
         "5d3782a82ffa4a49baa2d6c34aad7bedd4ebcb9c90ed78ef46c786b92e1b4bb3",
         "6578616d706c6531",
         "0.1105990783410138",
         "0.0"
        ],
        [
         "24",
         "df171979c8a03ec749b9567751b2e54a",
         "3a9ea57dea6b1d1d",
         "0.0368663594470046",
         "0.0"
        ],
        [
         "25",
         "c5c0a9a5b752c2e9",
         "4f73091b241a2dc8a579185967832221",
         "0.0",
         "0.032258064516129"
        ],
        [
         "26",
         "0ed3c20d7546df51fd2f23618fa1b30bb6cdef91aeba3e89",
         "7d425ac2e6dd4ca9e524ea819b2913f2",
         "0.0737327188940092",
         "0.032258064516129"
        ],
        [
         "27",
         "-----BEGIN PUBLIC KEY-----\nMIIBIjANBgkqhkiG9w0BAQEFAAOCAQ8AMIIBCgKCAQEAx/zOGlwrMxQ/8yQgnGDL\nrGXsFm55BcaNbmWOIYxqoeRyQ8sTtEcU5Yhh8Hj+XjPmKFdfGtDzljSSIvTXLrkh\nRn+4SqhNF2Suk1Q0zbcMyMxcu2Fd5yruzh115HT/nG0P9cIRxlpXNEtiKTDJe0Fk\nI/d0nXsOyeWyHdxqch7oRxSGgUfpzjfdI/yUA4F1DWbkXu7Hrojt0Uq1j/frdZd/\nIrSvcM6QRnsL+GlUjw5lY5dTRw7LWDKqDOB2Slc3CZ4no4vnJD8HT+dZrK6nIksO\nTfeBegb+rY2Mf/ac8dm4kH2Hts4mJaDNcGx5TPi+UpVz9uqIgw71ilD02nke6FgF\nFQIDAQAB\n-----END PUBLIC KEY-----",
         "8add65c5c2c0ec537b03e67fff2f3ae0c979f6986fd22fc44f1b973276cfab8c70ac2b4d26c6fd912044f0c4d6bedac1385aee1c79e1fdd3ce19175d4f4f7bc83c53f3fa31d07d7ffcb9138cfaef8f0ff4d00c02ca9e17cb9fcb1d538457e34c415385fcdce580f13f8ff2272a6a41c20e69d9d34258d933569c35f74025325f5d9b60ecfb0f3d4873001ca6f27f2715f75f4223a044f385e222580a339836d231e53a1000e1cc391e218ed057be0c6ef7d37747d16bce0f2d10dc638bec5afab478b10d2de448e38e3ee90d47ba32ba02da988091b81590013f215307fbcacd8488da5ad927c58a0a352bb50e37dbd18a5f0acefa477ede3097ebd89cf35d5c",
         "1.0",
         "1.0"
        ],
        [
         "28",
         "0df71190ad73911dfc9212224e8dbfd2",
         "0c4a9ecf2d5ed152d13d35228956973c",
         "0.0368663594470046",
         "0.032258064516129"
        ],
        [
         "29",
         "dc6b31a48a8d2d4de087b137bbe5ee1aae89e70cbcc444eceec019c6654c68a6",
         "481b3fefe33c4b13",
         "0.1105990783410138",
         "0.0"
        ],
        [
         "30",
         "31deab8552c9dcef99b3d0e45e196c08",
         "7552f9f169dc75a3",
         "0.0368663594470046",
         "0.0"
        ],
        [
         "31",
         "f16a2b2ef2a117458cd59ca7efaa5f5d",
         "6578616d706c6532",
         "0.0368663594470046",
         "0.0"
        ],
        [
         "32",
         "76913c934ee5db8cdc34b7bb71d475fb",
         "6578616d706c6532",
         "0.0368663594470046",
         "0.0"
        ],
        [
         "33",
         "7d6d4d270124ab96f892f7e4fe9e0293",
         "6578616d706c6532",
         "0.0368663594470046",
         "0.0"
        ],
        [
         "34",
         "-----BEGIN PUBLIC KEY-----\nMFkwEwYHKoZIzj0CAQYIKoZIzj0DAQcDQgAEEPhJulDPx7flwbG7ecJw2LPCl1Jq\nxLvnAGFgZYQVVr9Kbeto1grSMlFzmp98C1X9eVtIu2plkw86L7kDjcOOUg==\n-----END PUBLIC KEY-----\n",
         "6578616d706c6532",
         "0.3732718894009216",
         "0.0"
        ],
        [
         "35",
         "20e5e267e9e9ee2b1be33ed93faf2ad020e7c34c58643e263aea9f6564b0a8d4",
         "6578616d706c6532",
         "0.1105990783410138",
         "0.0"
        ],
        [
         "36",
         "a43a198abcd77137e3cecabb39c0b6c8",
         "721ee7566ade31a0",
         "0.0368663594470046",
         "0.0"
        ],
        [
         "37",
         "50e28421d44568e5",
         "314a7ef6c222f26689d7589a580feacf",
         "0.0",
         "0.032258064516129"
        ],
        [
         "38",
         "ae89c2daecbcf4517caee9c2bab6915d38f20e16ad0e8fae",
         "83b6d66487df13bb76f2874cc3e0a246",
         "0.0737327188940092",
         "0.032258064516129"
        ],
        [
         "39",
         "-----BEGIN PUBLIC KEY-----\nMIIBIjANBgkqhkiG9w0BAQEFAAOCAQ8AMIIBCgKCAQEAw14c03c4NbSYG1WIWSkM\n2/iT2VedLOirtkl/5Z2fIFV059PPfulic5mXFWuRlUgJ0J2ZSuSJfeS43A33OsYh\n4o/hcrp6R0sTJYh8z+4qUXgzCGrtx62BzMvXoGBws/gWQQmkNdNmVKbPTXxvICAe\ny240iXLmxFn09zgLpmFXNlA4js6Bn4k2F1JjIK1w7S2lLH2gh3Viz54URH4/hb9Z\nbZhn5Liz0MjLfBvmINA0ntUOoprkvARXxRyAMxmkVH/dfS3tkQV8C3meS7IC/nGL\ncoawFK0eDM2m4BzrddeflcM+uWP8RyvUFhsT5RRg0kiHt1NMXChTn0FFqy7dTS8f\noQIDAQAB\n-----END PUBLIC KEY-----",
         "35557714074bae89c6818a8e6e65695ecce33c94c300b368c9eaaaa38113a7f0582d560c97549d42ec04adc3c2590da4f16facc79574e95c2cf043ab499b35029dff02c77f8d401a6876e2d674795782ba20901dfacf47b3a6920758be97f55f626b8b4fbc9f3b90f9d410434817342e16a1a36f6663e984e4b0639edc900fad31d3f02efc1514d3320881625192e685bd03f6cc6501282230766af39e83051d82b114ed94e722c3cb77520de80f8c2b2a8f32d0dc74fa239a7b8cbd9ef4ef25aa9f8b7dfddaa0b0ed72259af3fa9ed4af5a393e403b6658592e871d09e05ac0e033a4118474286853e8bcc3c7b0c9bc9f8a2cc30dfa51cbd1e2b0fcd05d25be",
         "1.0",
         "1.0"
        ],
        [
         "40",
         "52b08d2b98c85f538fc4a938873936ac",
         "9ac49d80897f137a263708e2109e863e",
         "0.0368663594470046",
         "0.032258064516129"
        ],
        [
         "41",
         "32edc01a6b56d590804ec5fe88a058f4e65f37565fe24d27f9d1efeb4e07308e",
         "46bcc4a99d73de3a",
         "0.1105990783410138",
         "0.0"
        ],
        [
         "42",
         "4dbc6bad8623372a54553f181f405dce",
         "ad94b9cd852a0cc1",
         "0.0368663594470046",
         "0.0"
        ],
        [
         "43",
         "3753293fe3d7a1913148e33f119f3ccb",
         "6578616d706c6533",
         "0.0368663594470046",
         "0.0"
        ],
        [
         "44",
         "37403604a87faecce8b3a5e2d0edba6f",
         "6578616d706c6533",
         "0.0368663594470046",
         "0.0"
        ],
        [
         "45",
         "72690a4c1fb6d759ed26347d37295c32",
         "6578616d706c6533",
         "0.0368663594470046",
         "0.0"
        ],
        [
         "46",
         "-----BEGIN PUBLIC KEY-----\nMFkwEwYHKoZIzj0CAQYIKoZIzj0DAQcDQgAEzhVJ7f7o53kaO7vjtm6xniF/LGF+\nfjH9NatDf32CdcijQj4XSmFxrMWlef0wVRUQlzZDtlk2exGGXTFxYnUE2g==\n-----END PUBLIC KEY-----\n",
         "6578616d706c6533",
         "0.3732718894009216",
         "0.0"
        ],
        [
         "47",
         "2c91e07a3a2e10187c524c4f889b649d6a60ca64488df2e988a7b5ca4ff8a04a",
         "6578616d706c6533",
         "0.1105990783410138",
         "0.0"
        ],
        [
         "48",
         "0f950224e7d3921213b0cf0990694602",
         "e566c846f8be83f5",
         "0.0368663594470046",
         "0.0"
        ],
        [
         "49",
         "9f340e6e7969acec",
         "10d0b0fa9b0b5f7e798d0a832dd8d95f",
         "0.0",
         "0.032258064516129"
        ]
       ],
       "shape": {
        "columns": 4,
        "rows": 120000
       }
      },
      "text/html": [
       "<div>\n",
       "<style scoped>\n",
       "    .dataframe tbody tr th:only-of-type {\n",
       "        vertical-align: middle;\n",
       "    }\n",
       "\n",
       "    .dataframe tbody tr th {\n",
       "        vertical-align: top;\n",
       "    }\n",
       "\n",
       "    .dataframe thead th {\n",
       "        text-align: right;\n",
       "    }\n",
       "</style>\n",
       "<table border=\"1\" class=\"dataframe\">\n",
       "  <thead>\n",
       "    <tr style=\"text-align: right;\">\n",
       "      <th></th>\n",
       "      <th>Key</th>\n",
       "      <th>Ciphertext</th>\n",
       "      <th>Key Length (bits)</th>\n",
       "      <th>Ciphertext Length (bytes)</th>\n",
       "    </tr>\n",
       "  </thead>\n",
       "  <tbody>\n",
       "    <tr>\n",
       "      <th>0</th>\n",
       "      <td>ef7d8f79011629e953bf4f7738317bb5</td>\n",
       "      <td>5bff23c6f03e37c1</td>\n",
       "      <td>0.036866</td>\n",
       "      <td>0.000000</td>\n",
       "    </tr>\n",
       "    <tr>\n",
       "      <th>1</th>\n",
       "      <td>3453d3b1750432cf</td>\n",
       "      <td>b1366a30a0c3b8f68093c601b061180d</td>\n",
       "      <td>0.000000</td>\n",
       "      <td>0.032258</td>\n",
       "    </tr>\n",
       "    <tr>\n",
       "      <th>2</th>\n",
       "      <td>df3445340794dcce3d07bcc1ad375ece524ab5d001073b08</td>\n",
       "      <td>c0917f1c9df3d9b3965ac26779314db5</td>\n",
       "      <td>0.073733</td>\n",
       "      <td>0.032258</td>\n",
       "    </tr>\n",
       "    <tr>\n",
       "      <th>3</th>\n",
       "      <td>-----BEGIN PUBLIC KEY-----\\nMIIBIjANBgkqhkiG9w...</td>\n",
       "      <td>c20b03112d92b17d2daaac7e868fd6b697f436a03f8dbb...</td>\n",
       "      <td>1.000000</td>\n",
       "      <td>1.000000</td>\n",
       "    </tr>\n",
       "    <tr>\n",
       "      <th>4</th>\n",
       "      <td>1db0711ab8922217c4bf74c613073d8c</td>\n",
       "      <td>428aba00a39ee506e87c1b2924e8e219</td>\n",
       "      <td>0.036866</td>\n",
       "      <td>0.032258</td>\n",
       "    </tr>\n",
       "    <tr>\n",
       "      <th>...</th>\n",
       "      <td>...</td>\n",
       "      <td>...</td>\n",
       "      <td>...</td>\n",
       "      <td>...</td>\n",
       "    </tr>\n",
       "    <tr>\n",
       "      <th>119995</th>\n",
       "      <td>7d6efe610da52f8e4bc51e7269cef6ae</td>\n",
       "      <td>6578616d706c6539393939</td>\n",
       "      <td>0.036866</td>\n",
       "      <td>0.012097</td>\n",
       "    </tr>\n",
       "    <tr>\n",
       "      <th>119996</th>\n",
       "      <td>7daaa64b9a1afa119c012f5b0b0df7be</td>\n",
       "      <td>6578616d706c6539393939</td>\n",
       "      <td>0.036866</td>\n",
       "      <td>0.012097</td>\n",
       "    </tr>\n",
       "    <tr>\n",
       "      <th>119997</th>\n",
       "      <td>d59f776d74766370c2d68776b60112ce</td>\n",
       "      <td>6578616d706c6539393939</td>\n",
       "      <td>0.036866</td>\n",
       "      <td>0.012097</td>\n",
       "    </tr>\n",
       "    <tr>\n",
       "      <th>119998</th>\n",
       "      <td>-----BEGIN PUBLIC KEY-----\\nMFkwEwYHKoZIzj0CAQ...</td>\n",
       "      <td>6578616d706c6539393939</td>\n",
       "      <td>0.373272</td>\n",
       "      <td>0.012097</td>\n",
       "    </tr>\n",
       "    <tr>\n",
       "      <th>119999</th>\n",
       "      <td>65420711f6805b393464a1142d87eb9591ae5d105923e9...</td>\n",
       "      <td>6578616d706c6539393939</td>\n",
       "      <td>0.110599</td>\n",
       "      <td>0.012097</td>\n",
       "    </tr>\n",
       "  </tbody>\n",
       "</table>\n",
       "<p>120000 rows × 4 columns</p>\n",
       "</div>"
      ],
      "text/plain": [
       "                                                      Key  \\\n",
       "0                        ef7d8f79011629e953bf4f7738317bb5   \n",
       "1                                        3453d3b1750432cf   \n",
       "2        df3445340794dcce3d07bcc1ad375ece524ab5d001073b08   \n",
       "3       -----BEGIN PUBLIC KEY-----\\nMIIBIjANBgkqhkiG9w...   \n",
       "4                        1db0711ab8922217c4bf74c613073d8c   \n",
       "...                                                   ...   \n",
       "119995                   7d6efe610da52f8e4bc51e7269cef6ae   \n",
       "119996                   7daaa64b9a1afa119c012f5b0b0df7be   \n",
       "119997                   d59f776d74766370c2d68776b60112ce   \n",
       "119998  -----BEGIN PUBLIC KEY-----\\nMFkwEwYHKoZIzj0CAQ...   \n",
       "119999  65420711f6805b393464a1142d87eb9591ae5d105923e9...   \n",
       "\n",
       "                                               Ciphertext  Key Length (bits)  \\\n",
       "0                                        5bff23c6f03e37c1           0.036866   \n",
       "1                        b1366a30a0c3b8f68093c601b061180d           0.000000   \n",
       "2                        c0917f1c9df3d9b3965ac26779314db5           0.073733   \n",
       "3       c20b03112d92b17d2daaac7e868fd6b697f436a03f8dbb...           1.000000   \n",
       "4                        428aba00a39ee506e87c1b2924e8e219           0.036866   \n",
       "...                                                   ...                ...   \n",
       "119995                             6578616d706c6539393939           0.036866   \n",
       "119996                             6578616d706c6539393939           0.036866   \n",
       "119997                             6578616d706c6539393939           0.036866   \n",
       "119998                             6578616d706c6539393939           0.373272   \n",
       "119999                             6578616d706c6539393939           0.110599   \n",
       "\n",
       "        Ciphertext Length (bytes)  \n",
       "0                        0.000000  \n",
       "1                        0.032258  \n",
       "2                        0.032258  \n",
       "3                        1.000000  \n",
       "4                        0.032258  \n",
       "...                           ...  \n",
       "119995                   0.012097  \n",
       "119996                   0.012097  \n",
       "119997                   0.012097  \n",
       "119998                   0.012097  \n",
       "119999                   0.012097  \n",
       "\n",
       "[120000 rows x 4 columns]"
      ]
     },
     "execution_count": 4,
     "metadata": {},
     "output_type": "execute_result"
    }
   ],
   "source": [
    "X"
   ]
  },
  {
   "cell_type": "code",
   "execution_count": 5,
   "metadata": {},
   "outputs": [
    {
     "data": {
      "text/plain": [
       "0                AES\n",
       "1                DES\n",
       "2         Triple DES\n",
       "3                RSA\n",
       "4           Blowfish\n",
       "             ...    \n",
       "119995      Camellia\n",
       "119996       Serpent\n",
       "119997       ElGamal\n",
       "119998           ECC\n",
       "119999          GOST\n",
       "Name: Algorithm, Length: 120000, dtype: object"
      ]
     },
     "execution_count": 5,
     "metadata": {},
     "output_type": "execute_result"
    }
   ],
   "source": [
    "y"
   ]
  },
  {
   "cell_type": "code",
   "execution_count": 6,
   "metadata": {},
   "outputs": [],
   "source": [
    "from sklearn.preprocessing import LabelEncoder\n",
    "\n",
    "le = LabelEncoder()\n",
    "\n",
    "y = le.fit_transform(y)"
   ]
  },
  {
   "cell_type": "code",
   "execution_count": 7,
   "metadata": {},
   "outputs": [
    {
     "data": {
      "text/plain": [
       "array([ 0,  4, 11, ...,  6,  5,  7])"
      ]
     },
     "execution_count": 7,
     "metadata": {},
     "output_type": "execute_result"
    }
   ],
   "source": [
    "y"
   ]
  },
  {
   "cell_type": "code",
   "execution_count": 7,
   "metadata": {},
   "outputs": [
    {
     "data": {
      "text/plain": [
       "Algorithm\n",
       "AES           10000\n",
       "DES           10000\n",
       "Triple DES    10000\n",
       "RSA           10000\n",
       "Blowfish      10000\n",
       "ChaCha20      10000\n",
       "RC4           10000\n",
       "Camellia      10000\n",
       "Serpent       10000\n",
       "ElGamal       10000\n",
       "ECC           10000\n",
       "GOST          10000\n",
       "Name: count, dtype: int64"
      ]
     },
     "execution_count": 7,
     "metadata": {},
     "output_type": "execute_result"
    }
   ],
   "source": [
    "df['Algorithm'].value_counts()"
   ]
  },
  {
   "cell_type": "code",
   "execution_count": null,
   "metadata": {},
   "outputs": [
    {
     "data": {
      "text/plain": [
       "Algorithm                    0\n",
       "Key                          0\n",
       "Ciphertext                   0\n",
       "Key Length (bits)            0\n",
       "Ciphertext Length (bytes)    0\n",
       "dtype: int64"
      ]
     },
     "execution_count": 13,
     "metadata": {},
     "output_type": "execute_result"
    }
   ],
   "source": [
    "df.isnull().sum()"
   ]
  },
  {
   "cell_type": "code",
   "execution_count": 14,
   "metadata": {},
   "outputs": [
    {
     "data": {
      "text/plain": [
       "((96000, 4), (24000, 4), (96000,), (24000,))"
      ]
     },
     "execution_count": 14,
     "metadata": {},
     "output_type": "execute_result"
    }
   ],
   "source": [
    "from sklearn.model_selection import train_test_split\n",
    "\n",
    "X_train, X_test, y_train, y_test = train_test_split(X, y, test_size=0.2, random_state=42)\n",
    "\n",
    "X_train.shape, X_test.shape, y_train.shape, y_test.shape"
   ]
  },
  {
   "cell_type": "code",
   "execution_count": 8,
   "metadata": {},
   "outputs": [],
   "source": [
    "from sklearn.feature_extraction.text import TfidfVectorizer\n",
    "\n",
    "tfidf_vectorizer = TfidfVectorizer(max_features=1500)\n",
    "\n",
    "X_key = tfidf_vectorizer.fit_transform(df['Key'])\n",
    "X_ciphertext = tfidf_vectorizer.fit_transform(df['Ciphertext'])\n"
   ]
  },
  {
   "cell_type": "code",
   "execution_count": 9,
   "metadata": {},
   "outputs": [],
   "source": [
    "X_df = [X_key, X_ciphertext, X['Key Length (bits)'], X['Ciphertext Length (bytes)']]"
   ]
  },
  {
   "cell_type": "code",
   "execution_count": null,
   "metadata": {},
   "outputs": [],
   "source": [
    "import scipy.sparse as sp\n",
    "import numpy as np\n",
    "\n",
    "X_numeric = np.array(X[['Key Length (bits)', 'Ciphertext Length (bytes)']])\n",
    "X_numeric_sparse = sp.csr_matrix(X_numeric)\n",
    "\n",
    "X_combined = sp.hstack([X_key, X_ciphertext, X_numeric_sparse])\n"
   ]
  },
  {
   "cell_type": "code",
   "execution_count": 30,
   "metadata": {},
   "outputs": [
    {
     "data": {
      "text/plain": [
       "<Compressed Sparse Row sparse matrix of dtype 'float64'\n",
       "\twith 336604 stored elements and shape (120000, 3002)>"
      ]
     },
     "execution_count": 30,
     "metadata": {},
     "output_type": "execute_result"
    }
   ],
   "source": [
    "X_combined"
   ]
  },
  {
   "cell_type": "code",
   "execution_count": 31,
   "metadata": {},
   "outputs": [
    {
     "name": "stdout",
     "output_type": "stream",
     "text": [
      "Random Forest Accuracy: 0.58\n"
     ]
    }
   ],
   "source": [
    "from sklearn.ensemble import RandomForestClassifier\n",
    "from sklearn.model_selection import train_test_split\n",
    "from sklearn.metrics import accuracy_score\n",
    "\n",
    "# Train-test split\n",
    "X_train, X_test, y_train, y_test = train_test_split(X_combined, y, test_size=0.2, random_state=42)\n",
    "\n",
    "# Train the model\n",
    "clf = RandomForestClassifier(n_estimators=100, random_state=42)\n",
    "clf.fit(X_train, y_train)\n",
    "\n",
    "# Predictions\n",
    "y_pred = clf.predict(X_test)\n",
    "accuracy = accuracy_score(y_test, y_pred)\n",
    "print(f'Random Forest Accuracy: {accuracy:.2f}')\n"
   ]
  },
  {
   "cell_type": "code",
   "execution_count": null,
   "metadata": {},
   "outputs": [],
   "source": []
  },
  {
   "cell_type": "markdown",
   "metadata": {},
   "source": [
    "With DeepLearning"
   ]
  },
  {
   "cell_type": "code",
   "execution_count": 10,
   "metadata": {},
   "outputs": [],
   "source": [
    "import torch\n",
    "import torch.nn as nn\n",
    "import torch.optim as optim\n",
    "from torch.utils.data import DataLoader, TensorDataset\n",
    "from sklearn.model_selection import train_test_split\n",
    "from sklearn.preprocessing import LabelEncoder\n",
    "from tensorflow.keras.preprocessing.text import Tokenizer\n",
    "from tensorflow.keras.preprocessing.sequence import pad_sequences\n",
    "import numpy as np\n",
    "\n",
    "# Hyperparameters\n",
    "MAX_WORDS = 1000\n",
    "MAX_LENGTH = 100\n",
    "\n",
    "# Tokenizer for text\n",
    "tokenizer = Tokenizer(num_words=MAX_WORDS)\n",
    "tokenizer.fit_on_texts(df['Key'].astype(str) + \" \" + df['Ciphertext'].astype(str))\n",
    "\n",
    "# Convert text to sequences\n",
    "X_key_seq = tokenizer.texts_to_sequences(df['Key'].astype(str))\n",
    "X_ciphertext_seq = tokenizer.texts_to_sequences(df['Ciphertext'].astype(str))\n",
    "\n",
    "# Padding to ensure uniform input shape\n",
    "X_key_padded = pad_sequences(X_key_seq, maxlen=MAX_LENGTH)\n",
    "X_ciphertext_padded = pad_sequences(X_ciphertext_seq, maxlen=MAX_LENGTH)\n",
    "\n",
    "# Convert numerical columns to numpy array\n",
    "X_numeric = np.array(df[['Key Length (bits)', 'Ciphertext Length (bytes)']])\n",
    "\n",
    "# Encode labels\n",
    "label_encoder = LabelEncoder()\n",
    "y = label_encoder.fit_transform(df['Algorithm'])\n",
    "\n",
    "# Convert to PyTorch tensors\n",
    "X_key_tensor = torch.tensor(X_key_padded, dtype=torch.long)\n",
    "X_ciphertext_tensor = torch.tensor(X_ciphertext_padded, dtype=torch.long)\n",
    "X_numeric_tensor = torch.tensor(X_numeric, dtype=torch.float32)\n",
    "y_tensor = torch.tensor(y, dtype=torch.long)\n",
    "\n",
    "# Train-test split\n",
    "X_key_train, X_key_test, X_cipher_train, X_cipher_test, X_num_train, X_num_test, y_train, y_test = train_test_split(\n",
    "    X_key_tensor, X_ciphertext_tensor, X_numeric_tensor, y_tensor, test_size=0.2, random_state=42\n",
    ")\n",
    "\n",
    "# Create PyTorch Dataset and DataLoader\n",
    "train_dataset = TensorDataset(X_key_train, X_cipher_train, X_num_train, y_train)\n",
    "test_dataset = TensorDataset(X_key_test, X_cipher_test, X_num_test, y_test)\n",
    "\n",
    "train_loader = DataLoader(train_dataset, batch_size=32, shuffle=True)\n",
    "test_loader = DataLoader(test_dataset, batch_size=32, shuffle=False)\n"
   ]
  },
  {
   "cell_type": "code",
   "execution_count": 11,
   "metadata": {},
   "outputs": [],
   "source": [
    "class LSTMModel(nn.Module):\n",
    "    def __init__(self, vocab_size, embed_dim, hidden_dim, num_classes):\n",
    "        super(LSTMModel, self).__init__()\n",
    "\n",
    "        # LSTM for 'Key'\n",
    "        self.embedding_key = nn.Embedding(vocab_size, embed_dim)\n",
    "        self.lstm_key = nn.LSTM(embed_dim, hidden_dim, batch_first=True)\n",
    "        \n",
    "        # LSTM for 'Ciphertext'\n",
    "        self.embedding_cipher = nn.Embedding(vocab_size, embed_dim)\n",
    "        self.lstm_cipher = nn.LSTM(embed_dim, hidden_dim, batch_first=True)\n",
    "        \n",
    "        # Fully connected layer for numerical features\n",
    "        self.fc_numeric = nn.Linear(2, 32)  # 2 numerical features\n",
    "\n",
    "        # Final classification layer\n",
    "        self.fc_final = nn.Linear(hidden_dim * 2 + 32, num_classes)  # Combine LSTMs + numerical features\n",
    "        self.dropout = nn.Dropout(0.5)\n",
    "    \n",
    "    def forward(self, key, cipher, numeric):\n",
    "        # Key sequence through LSTM\n",
    "        key_embedded = self.embedding_key(key)\n",
    "        _, (key_hidden, _) = self.lstm_key(key_embedded)\n",
    "        \n",
    "        # Ciphertext sequence through LSTM\n",
    "        cipher_embedded = self.embedding_cipher(cipher)\n",
    "        _, (cipher_hidden, _) = self.lstm_cipher(cipher_embedded)\n",
    "        \n",
    "        # Flatten LSTM outputs\n",
    "        key_hidden = key_hidden[-1]\n",
    "        cipher_hidden = cipher_hidden[-1]\n",
    "\n",
    "        # Process numerical features\n",
    "        numeric_features = torch.relu(self.fc_numeric(numeric))\n",
    "\n",
    "        # Concatenate all features\n",
    "        combined = torch.cat((key_hidden, cipher_hidden, numeric_features), dim=1)\n",
    "        output = self.fc_final(self.dropout(combined))\n",
    "\n",
    "        return output\n"
   ]
  },
  {
   "cell_type": "code",
   "execution_count": 12,
   "metadata": {},
   "outputs": [
    {
     "name": "stdout",
     "output_type": "stream",
     "text": [
      "Epoch 1/5, Loss: 1.8132, Accuracy: 0.3342\n"
     ]
    },
    {
     "ename": "KeyboardInterrupt",
     "evalue": "",
     "output_type": "error",
     "traceback": [
      "\u001b[1;31m---------------------------------------------------------------------------\u001b[0m",
      "\u001b[1;31mKeyboardInterrupt\u001b[0m                         Traceback (most recent call last)",
      "Cell \u001b[1;32mIn[12], line 29\u001b[0m\n\u001b[0;32m     27\u001b[0m outputs \u001b[38;5;241m=\u001b[39m model(X_key_batch, X_cipher_batch, X_num_batch)\n\u001b[0;32m     28\u001b[0m loss \u001b[38;5;241m=\u001b[39m criterion(outputs, y_batch)\n\u001b[1;32m---> 29\u001b[0m \u001b[43mloss\u001b[49m\u001b[38;5;241;43m.\u001b[39;49m\u001b[43mbackward\u001b[49m\u001b[43m(\u001b[49m\u001b[43m)\u001b[49m\n\u001b[0;32m     30\u001b[0m optimizer\u001b[38;5;241m.\u001b[39mstep()\n\u001b[0;32m     32\u001b[0m total_loss \u001b[38;5;241m+\u001b[39m\u001b[38;5;241m=\u001b[39m loss\u001b[38;5;241m.\u001b[39mitem()\n",
      "File \u001b[1;32mc:\\Users\\Apurav\\AppData\\Local\\Programs\\Python\\Python312\\Lib\\site-packages\\torch\\_tensor.py:581\u001b[0m, in \u001b[0;36mTensor.backward\u001b[1;34m(self, gradient, retain_graph, create_graph, inputs)\u001b[0m\n\u001b[0;32m    571\u001b[0m \u001b[38;5;28;01mif\u001b[39;00m has_torch_function_unary(\u001b[38;5;28mself\u001b[39m):\n\u001b[0;32m    572\u001b[0m     \u001b[38;5;28;01mreturn\u001b[39;00m handle_torch_function(\n\u001b[0;32m    573\u001b[0m         Tensor\u001b[38;5;241m.\u001b[39mbackward,\n\u001b[0;32m    574\u001b[0m         (\u001b[38;5;28mself\u001b[39m,),\n\u001b[1;32m   (...)\u001b[0m\n\u001b[0;32m    579\u001b[0m         inputs\u001b[38;5;241m=\u001b[39minputs,\n\u001b[0;32m    580\u001b[0m     )\n\u001b[1;32m--> 581\u001b[0m \u001b[43mtorch\u001b[49m\u001b[38;5;241;43m.\u001b[39;49m\u001b[43mautograd\u001b[49m\u001b[38;5;241;43m.\u001b[39;49m\u001b[43mbackward\u001b[49m\u001b[43m(\u001b[49m\n\u001b[0;32m    582\u001b[0m \u001b[43m    \u001b[49m\u001b[38;5;28;43mself\u001b[39;49m\u001b[43m,\u001b[49m\u001b[43m \u001b[49m\u001b[43mgradient\u001b[49m\u001b[43m,\u001b[49m\u001b[43m \u001b[49m\u001b[43mretain_graph\u001b[49m\u001b[43m,\u001b[49m\u001b[43m \u001b[49m\u001b[43mcreate_graph\u001b[49m\u001b[43m,\u001b[49m\u001b[43m \u001b[49m\u001b[43minputs\u001b[49m\u001b[38;5;241;43m=\u001b[39;49m\u001b[43minputs\u001b[49m\n\u001b[0;32m    583\u001b[0m \u001b[43m\u001b[49m\u001b[43m)\u001b[49m\n",
      "File \u001b[1;32mc:\\Users\\Apurav\\AppData\\Local\\Programs\\Python\\Python312\\Lib\\site-packages\\torch\\autograd\\__init__.py:347\u001b[0m, in \u001b[0;36mbackward\u001b[1;34m(tensors, grad_tensors, retain_graph, create_graph, grad_variables, inputs)\u001b[0m\n\u001b[0;32m    342\u001b[0m     retain_graph \u001b[38;5;241m=\u001b[39m create_graph\n\u001b[0;32m    344\u001b[0m \u001b[38;5;66;03m# The reason we repeat the same comment below is that\u001b[39;00m\n\u001b[0;32m    345\u001b[0m \u001b[38;5;66;03m# some Python versions print out the first line of a multi-line function\u001b[39;00m\n\u001b[0;32m    346\u001b[0m \u001b[38;5;66;03m# calls in the traceback and some print out the last line\u001b[39;00m\n\u001b[1;32m--> 347\u001b[0m \u001b[43m_engine_run_backward\u001b[49m\u001b[43m(\u001b[49m\n\u001b[0;32m    348\u001b[0m \u001b[43m    \u001b[49m\u001b[43mtensors\u001b[49m\u001b[43m,\u001b[49m\n\u001b[0;32m    349\u001b[0m \u001b[43m    \u001b[49m\u001b[43mgrad_tensors_\u001b[49m\u001b[43m,\u001b[49m\n\u001b[0;32m    350\u001b[0m \u001b[43m    \u001b[49m\u001b[43mretain_graph\u001b[49m\u001b[43m,\u001b[49m\n\u001b[0;32m    351\u001b[0m \u001b[43m    \u001b[49m\u001b[43mcreate_graph\u001b[49m\u001b[43m,\u001b[49m\n\u001b[0;32m    352\u001b[0m \u001b[43m    \u001b[49m\u001b[43minputs\u001b[49m\u001b[43m,\u001b[49m\n\u001b[0;32m    353\u001b[0m \u001b[43m    \u001b[49m\u001b[43mallow_unreachable\u001b[49m\u001b[38;5;241;43m=\u001b[39;49m\u001b[38;5;28;43;01mTrue\u001b[39;49;00m\u001b[43m,\u001b[49m\n\u001b[0;32m    354\u001b[0m \u001b[43m    \u001b[49m\u001b[43maccumulate_grad\u001b[49m\u001b[38;5;241;43m=\u001b[39;49m\u001b[38;5;28;43;01mTrue\u001b[39;49;00m\u001b[43m,\u001b[49m\n\u001b[0;32m    355\u001b[0m \u001b[43m\u001b[49m\u001b[43m)\u001b[49m\n",
      "File \u001b[1;32mc:\\Users\\Apurav\\AppData\\Local\\Programs\\Python\\Python312\\Lib\\site-packages\\torch\\autograd\\graph.py:825\u001b[0m, in \u001b[0;36m_engine_run_backward\u001b[1;34m(t_outputs, *args, **kwargs)\u001b[0m\n\u001b[0;32m    823\u001b[0m     unregister_hooks \u001b[38;5;241m=\u001b[39m _register_logging_hooks_on_whole_graph(t_outputs)\n\u001b[0;32m    824\u001b[0m \u001b[38;5;28;01mtry\u001b[39;00m:\n\u001b[1;32m--> 825\u001b[0m     \u001b[38;5;28;01mreturn\u001b[39;00m \u001b[43mVariable\u001b[49m\u001b[38;5;241;43m.\u001b[39;49m\u001b[43m_execution_engine\u001b[49m\u001b[38;5;241;43m.\u001b[39;49m\u001b[43mrun_backward\u001b[49m\u001b[43m(\u001b[49m\u001b[43m  \u001b[49m\u001b[38;5;66;43;03m# Calls into the C++ engine to run the backward pass\u001b[39;49;00m\n\u001b[0;32m    826\u001b[0m \u001b[43m        \u001b[49m\u001b[43mt_outputs\u001b[49m\u001b[43m,\u001b[49m\u001b[43m \u001b[49m\u001b[38;5;241;43m*\u001b[39;49m\u001b[43margs\u001b[49m\u001b[43m,\u001b[49m\u001b[43m \u001b[49m\u001b[38;5;241;43m*\u001b[39;49m\u001b[38;5;241;43m*\u001b[39;49m\u001b[43mkwargs\u001b[49m\n\u001b[0;32m    827\u001b[0m \u001b[43m    \u001b[49m\u001b[43m)\u001b[49m  \u001b[38;5;66;03m# Calls into the C++ engine to run the backward pass\u001b[39;00m\n\u001b[0;32m    828\u001b[0m \u001b[38;5;28;01mfinally\u001b[39;00m:\n\u001b[0;32m    829\u001b[0m     \u001b[38;5;28;01mif\u001b[39;00m attach_logging_hooks:\n",
      "\u001b[1;31mKeyboardInterrupt\u001b[0m: "
     ]
    }
   ],
   "source": [
    "# Hyperparameters\n",
    "EMBED_DIM = 64\n",
    "HIDDEN_DIM = 32\n",
    "NUM_CLASSES = len(label_encoder.classes_)\n",
    "EPOCHS = 5\n",
    "LEARNING_RATE = 0.001\n",
    "\n",
    "# Initialize model\n",
    "device = torch.device(\"cuda\" if torch.cuda.is_available() else \"cpu\")\n",
    "model = LSTMModel(vocab_size=MAX_WORDS, embed_dim=EMBED_DIM, hidden_dim=HIDDEN_DIM, num_classes=NUM_CLASSES)\n",
    "model.to(device)\n",
    "\n",
    "# Loss and optimizer\n",
    "criterion = nn.CrossEntropyLoss()\n",
    "optimizer = optim.Adam(model.parameters(), lr=LEARNING_RATE)\n",
    "\n",
    "# Training loop\n",
    "for epoch in range(EPOCHS):\n",
    "    model.train()\n",
    "    total_loss = 0\n",
    "    correct, total = 0, 0\n",
    "    \n",
    "    for X_key_batch, X_cipher_batch, X_num_batch, y_batch in train_loader:\n",
    "        X_key_batch, X_cipher_batch, X_num_batch, y_batch = X_key_batch.to(device), X_cipher_batch.to(device), X_num_batch.to(device), y_batch.to(device)\n",
    "\n",
    "        optimizer.zero_grad()\n",
    "        outputs = model(X_key_batch, X_cipher_batch, X_num_batch)\n",
    "        loss = criterion(outputs, y_batch)\n",
    "        loss.backward()\n",
    "        optimizer.step()\n",
    "        \n",
    "        total_loss += loss.item()\n",
    "        correct += (outputs.argmax(dim=1) == y_batch).sum().item()\n",
    "        total += y_batch.size(0)\n",
    "    \n",
    "    print(f\"Epoch {epoch+1}/{EPOCHS}, Loss: {total_loss/len(train_loader):.4f}, Accuracy: {correct/total:.4f}\")\n"
   ]
  },
  {
   "cell_type": "code",
   "execution_count": null,
   "metadata": {},
   "outputs": [],
   "source": [
    "# Evaluation\n",
    "model.eval()\n",
    "correct, total = 0, 0\n",
    "\n",
    "with torch.no_grad():\n",
    "    for X_key_batch, X_cipher_batch, X_num_batch, y_batch in test_loader:\n",
    "        X_key_batch, X_cipher_batch, X_num_batch, y_batch = X_key_batch.to(device), X_cipher_batch.to(device), X_num_batch.to(device), y_batch.to(device)\n",
    "\n",
    "        outputs = model(X_key_batch, X_cipher_batch, X_num_batch)\n",
    "        correct += (outputs.argmax(dim=1) == y_batch).sum().item()\n",
    "        total += y_batch.size(0)\n",
    "\n",
    "print(f\"Test Accuracy: {correct/total:.4f}\")\n"
   ]
  },
  {
   "cell_type": "markdown",
   "metadata": {},
   "source": [
    "Another dataset"
   ]
  },
  {
   "cell_type": "code",
   "execution_count": 25,
   "metadata": {},
   "outputs": [],
   "source": [
    "import pandas as pd\n",
    "import numpy as np\n",
    "from sklearn.model_selection import train_test_split\n",
    "from sklearn.preprocessing import LabelEncoder\n",
    "\n",
    "# Load dataset\n",
    "df = pd.read_csv(\"cryptography_dataset_enhanced.csv\")  # Ensure this contains plaintext, ciphertext, and algorithm\n",
    "\n",
    "# Encode labels\n",
    "label_encoder = LabelEncoder()\n",
    "df['algorithm_label'] = label_encoder.fit_transform(df['Algorithm'])\n",
    "\n",
    "# Train-Test Split\n",
    "X_train, X_test, y_train, y_test = train_test_split(df['Ciphertext'], df['algorithm_label'], test_size=0.2, random_state=42)\n"
   ]
  },
  {
   "cell_type": "code",
   "execution_count": 28,
   "metadata": {},
   "outputs": [
    {
     "data": {
      "text/plain": [
       "algorithm_label\n",
       "1    2558\n",
       "2    2533\n",
       "4    2514\n",
       "5    2510\n",
       "6    2508\n",
       "3    2479\n",
       "0    2472\n",
       "7    2426\n",
       "Name: count, dtype: int64"
      ]
     },
     "execution_count": 28,
     "metadata": {},
     "output_type": "execute_result"
    }
   ],
   "source": [
    "df[\"algorithm_label\"].value_counts()"
   ]
  },
  {
   "cell_type": "code",
   "execution_count": 22,
   "metadata": {},
   "outputs": [],
   "source": [
    "import hashlib\n",
    "from sklearn.feature_extraction.text import TfidfVectorizer\n",
    "\n",
    "# Feature extraction using character frequency and hashing\n",
    "def extract_features(cipher_texts):\n",
    "    vectorizer = TfidfVectorizer(analyzer='char', ngram_range=(1, 1))\n",
    "    return vectorizer.fit_transform(cipher_texts)\n",
    "\n",
    "X_train_features = extract_features(X_train)\n",
    "X_test_features = extract_features(X_test)\n"
   ]
  },
  {
   "cell_type": "code",
   "execution_count": 23,
   "metadata": {},
   "outputs": [
    {
     "data": {
      "text/plain": [
       "((80000, 39), (20000, 39), (80000,), (20000,))"
      ]
     },
     "execution_count": 23,
     "metadata": {},
     "output_type": "execute_result"
    }
   ],
   "source": [
    "X_train_features.shape, X_test_features.shape, y_train.shape, y_test.shape"
   ]
  },
  {
   "cell_type": "code",
   "execution_count": 24,
   "metadata": {},
   "outputs": [
    {
     "name": "stdout",
     "output_type": "stream",
     "text": [
      "Model Accuracy: 0.5851\n"
     ]
    }
   ],
   "source": [
    "from sklearn.ensemble import RandomForestClassifier\n",
    "from sklearn.neighbors import KNeighborsClassifier\n",
    "from sklearn.ensemble import AdaBoostClassifier, GradientBoostingClassifier\n",
    "from xgboost import XGBClassifier\n",
    "from sklearn.svm import SVC\n",
    "from sklearn.metrics import accuracy_score\n",
    "\n",
    "# Train model\n",
    "model2 = XGBClassifier(n_estimators=100, random_state=42)\n",
    "model2.fit(X_train_features, y_train)\n",
    "\n",
    "\n",
    "# model = KNeighborsClassifier(n_neighbors=100)\n",
    "# model.fit(X_train_features, y_train)\n",
    "\n",
    "# Predict\n",
    "y_pred = model2.predict(X_test_features)\n",
    "\n",
    "# Accuracy\n",
    "accuracy = accuracy_score(y_test, y_pred)\n",
    "print(f\"Model Accuracy: {accuracy:.4f}\")\n"
   ]
  },
  {
   "cell_type": "code",
   "execution_count": 18,
   "metadata": {},
   "outputs": [
    {
     "name": "stdout",
     "output_type": "stream",
     "text": [
      "0        2\n",
      "1        2\n",
      "2        2\n",
      "3        2\n",
      "4        2\n",
      "        ..\n",
      "99995    4\n",
      "99996    4\n",
      "99997    4\n",
      "99998    4\n",
      "99999    4\n",
      "Name: algorithm_label, Length: 100000, dtype: int32\n"
     ]
    }
   ],
   "source": [
    "import pandas as pd\n",
    "import torch\n",
    "import torch.nn as nn\n",
    "import torch.optim as optim\n",
    "from sklearn.model_selection import train_test_split\n",
    "from sklearn.preprocessing import LabelEncoder\n",
    "from torch.utils.data import Dataset, DataLoader\n",
    "from collections import Counter\n",
    "\n",
    "# Load dataset\n",
    "df = pd.read_csv(\"crypto_dataset_large2.csv\")  # Ensure it contains cipher_text & algorithm\n",
    "\n",
    "# Encode labels (algorithm -> numeric)\n",
    "label_encoder = LabelEncoder()\n",
    "df['algorithm_label'] = label_encoder.fit_transform(df['Algorithm'])\n",
    "print(df['algorithm_label'])\n",
    "\n",
    "# Train-Test Split\n",
    "X_train, X_test, y_train, y_test = train_test_split(df['Ciphertext'], df['algorithm_label'], test_size=0.2, random_state=42)\n"
   ]
  },
  {
   "cell_type": "code",
   "execution_count": null,
   "metadata": {},
   "outputs": [],
   "source": [
    "# Create a character vocabulary from ciphertext\n",
    "all_chars = \"\".join(df['Ciphertext'])\n",
    "char_counts = Counter(all_chars)\n",
    "char_vocab = sorted(char_counts.keys())  # Unique characters\n",
    "char_to_idx = {char: idx for idx, char in enumerate(char_vocab, start=1)}\n",
    "\n",
    "# Function to convert ciphertext to sequence of numbers\n",
    "def text_to_sequence(text, max_len=100):\n",
    "    seq = [char_to_idx.get(char, 0) for char in text]\n",
    "    seq = seq[:max_len] + [0] * (max_len - len(seq))  # Pad/truncate to max_len\n",
    "    return seq\n",
    "\n",
    "# Convert all ciphertexts\n",
    "X_train_seq = torch.tensor([text_to_sequence(text) for text in X_train], dtype=torch.long)\n",
    "X_test_seq = torch.tensor([text_to_sequence(text) for text in X_test], dtype=torch.long)\n",
    "y_train_tensor = torch.tensor(y_train.values, dtype=torch.long)\n",
    "y_test_tensor = torch.tensor(y_test.values, dtype=torch.long)\n"
   ]
  },
  {
   "cell_type": "code",
   "execution_count": 4,
   "metadata": {},
   "outputs": [],
   "source": [
    "class EncryptionDataset(Dataset):\n",
    "    def __init__(self, X, y):\n",
    "        self.X = X\n",
    "        self.y = y\n",
    "\n",
    "    def __len__(self):\n",
    "        return len(self.X)\n",
    "\n",
    "    def __getitem__(self, idx):\n",
    "        return self.X[idx], self.y[idx]\n",
    "\n",
    "# Create DataLoaders\n",
    "batch_size = 32\n",
    "train_dataset = EncryptionDataset(X_train_seq, y_train_tensor)\n",
    "test_dataset = EncryptionDataset(X_test_seq, y_test_tensor)\n",
    "\n",
    "train_loader = DataLoader(train_dataset, batch_size=batch_size, shuffle=True)\n",
    "test_loader = DataLoader(test_dataset, batch_size=batch_size, shuffle=False)\n"
   ]
  },
  {
   "cell_type": "code",
   "execution_count": null,
   "metadata": {},
   "outputs": [],
   "source": [
    "import torch.nn as nn\n",
    "\n",
    "class CipherLSTM(nn.Module):\n",
    "    def __init__(self, vocab_size, embed_dim, hidden_dim, num_classes, dropout_prob=0.5):\n",
    "        super(CipherLSTM, self).__init__()\n",
    "        self.embedding = nn.Embedding(vocab_size, embed_dim)\n",
    "        self.lstm = nn.LSTM(embed_dim, hidden_dim, batch_first=True)\n",
    "        self.dropout = nn.Dropout(dropout_prob)\n",
    "        self.fc = nn.Linear(hidden_dim, num_classes)\n",
    "\n",
    "    def forward(self, x):\n",
    "        x = self.embedding(x)\n",
    "        _, (hidden, _) = self.lstm(x)\n",
    "        hidden = self.dropout(hidden[-1])  # Apply dropout before the fully connected layer\n",
    "        out = self.fc(hidden)\n",
    "        return out\n",
    "\n",
    "# Model parameters\n",
    "vocab_size = len(char_vocab) + 1  # Extra 1 for padding index\n",
    "embed_dim = 128\n",
    "hidden_dim = 256\n",
    "num_classes = len(label_encoder.classes_)\n",
    "\n",
    "# Initialize model\n",
    "model = CipherLSTM(vocab_size, embed_dim, hidden_dim, num_classes, dropout_prob=0.5)\n"
   ]
  },
  {
   "cell_type": "code",
   "execution_count": null,
   "metadata": {},
   "outputs": [
    {
     "name": "stdout",
     "output_type": "stream",
     "text": [
      "Epoch [1/3], Loss: 0.6307\n",
      "Epoch [2/3], Loss: 0.6224\n",
      "Epoch [3/3], Loss: 0.6253\n"
     ]
    }
   ],
   "source": [
    "criterion = nn.CrossEntropyLoss()\n",
    "optimizer = optim.Adam(model.parameters(), lr=0.001)\n",
    "\n",
    "num_epochs = 3\n",
    "\n",
    "for epoch in range(num_epochs):\n",
    "    model.train()\n",
    "    total_loss = 0\n",
    "    for batch_X, batch_y in train_loader:\n",
    "        # batch_X, batch_y = batch_X.to(device), batch_y.to(device)\n",
    "\n",
    "        optimizer.zero_grad()\n",
    "        outputs = model(batch_X)\n",
    "        loss = criterion(outputs, batch_y)\n",
    "        loss.backward()\n",
    "        optimizer.step()\n",
    "\n",
    "        total_loss += loss.item()\n",
    "\n",
    "    # Print loss every epoch\n",
    "    # if (epoch + 1) % 1 == 0:\n",
    "    #     print(f\"Epoch [{epoch+1}/{num_epochs}], Loss: {total_loss/len(train_loader):.4f}\")\n",
    "\n",
    "    print(f\"Epoch [{epoch+1}/{num_epochs}], Loss: {total_loss/len(train_loader):.4f}\")\n"
   ]
  },
  {
   "cell_type": "code",
   "execution_count": null,
   "metadata": {},
   "outputs": [
    {
     "name": "stdout",
     "output_type": "stream",
     "text": [
      "Test Accuracy: 0.6550\n"
     ]
    }
   ],
   "source": [
    "from sklearn.metrics import accuracy_score\n",
    "\n",
    "model.eval()\n",
    "predictions = []\n",
    "true_labels = []\n",
    "\n",
    "with torch.no_grad():\n",
    "    for batch_X, batch_y in test_loader:\n",
    "        # batch_X, batch_y = batch_X.to(device), batch_y.to(device)\n",
    "        outputs = model(batch_X)\n",
    "        _, predicted = torch.max(outputs, 1)\n",
    "        predictions.extend(predicted.cpu().numpy())\n",
    "        true_labels.extend(batch_y.cpu().numpy())\n",
    "\n",
    "accuracy = accuracy_score(true_labels, predictions)\n",
    "print(f\"Test Accuracy: {accuracy:.4f}\")\n"
   ]
  },
  {
   "cell_type": "code",
   "execution_count": 20,
   "metadata": {},
   "outputs": [],
   "source": [
    "import pickle\n",
    "\n",
    "# Save the model\n",
    "torch.save(model.state_dict(), \"cipher_lstm_model.pth\")"
   ]
  },
  {
   "cell_type": "code",
   "execution_count": 13,
   "metadata": {},
   "outputs": [
    {
     "data": {
      "application/vnd.microsoft.datawrangler.viewer.v0+json": {
       "columns": [
        {
         "name": "index",
         "rawType": "int64",
         "type": "integer"
        },
        {
         "name": "Plaintext",
         "rawType": "object",
         "type": "string"
        },
        {
         "name": "Ciphertext",
         "rawType": "object",
         "type": "string"
        },
        {
         "name": "Algorithm",
         "rawType": "object",
         "type": "string"
        },
        {
         "name": "Key",
         "rawType": "object",
         "type": "unknown"
        }
       ],
       "conversionMethod": "pd.DataFrame",
       "ref": "a9329c71-041b-4cf0-a798-17b03466eca9",
       "rows": [
        [
         "0",
         "DdClLbN6qfFRtpVyP033zCjp0FndJ53O",
         "9HtvDQw6d0hnjkkokNpaAa7aO4zxbvPEfqpKr3PwnnMo6xtB3OlTug==",
         "Blowfish",
         "1a1ea0429141dc2bf9041d41f825553f"
        ],
        [
         "1",
         "SJktYGKNee2MKBz1dsoyntoC0LrpmZOX",
         "BDu9JxclhcofdpFkBRLTYVLD21dg2tqY/NFlN1CRpls=",
         "RC4",
         "ee1e67381c4dfbdef477a2b58726b3eb"
        ],
        [
         "2",
         "32VKfI0uqZgPUmWgHgPFFcwDWG1ONHWM",
         "603b2ef6a5f42bb1924fea4d22f1af6b49cf8abfaf385f88c7e62b9aa360d79c",
         "SHA-256",
         null
        ],
        [
         "3",
         "qKIpLiJrQ81sTRK2U1OSH0i6OpiBYDul",
         "7cJcDg85U4BuuCEreK+C7LouVenzQHJ8FFII3Ei2yp3Ud8zqXSAX6g==",
         "3DES",
         "4d78801cb57f077cff9bfaddc0342a3dd9acde28d2decb80"
        ],
        [
         "4",
         "7yOAGHJ0f2KfEqcyVce6tJ5FJmuhXkLC",
         "LMhm3BjIcUb/1eqdlvRyI/rcGWpF/2xvkdNsCosd+hIKdi536umsHwTozh0tNw5z",
         "AES",
         "3f3beaa14cfc3987dd370495a4956625"
        ],
        [
         "5",
         "9mIZOggejHllQcz5bsxsYi2f2M1kMamQ",
         "B+V0ntV/EnW5jjlVirkx35nhDD/RugVBH7xOVAg8RiKjKJJRKUTrkQ==",
         "Blowfish",
         "26a1e9939a8128c48bc0d17c7c4a5b4e"
        ],
        [
         "6",
         "9tG5Sqf431FSPOQcp6CxdtxijMX0xPkz",
         "/VqnpZoviIOFOlKecVwK5XFJqFSyXHjcLbcLljJw3y8=",
         "RC4",
         "d10de25061cd4799735b008363732cf9"
        ],
        [
         "7",
         "rEmH95fnpO8Oe7WyCsjkwvK9q4P4HXRu",
         "TvHWKUO9Dfq7cU90L3WYAoEvIUtLGdDUgwCSMXSlPwk=",
         "ChaCha20",
         "c3e4ebe6a5fe039305d4a01ac3c813fc4477dc73360c067e4553087ad74fee5a"
        ],
        [
         "8",
         "oqfdt8r92EVowjoNNVpxCw5hcKcydGwH",
         "OSlCpnYrXw8Khz0dH9z9mN+I8KOnofuIAFAKI0Fj4G0=",
         "ChaCha20",
         "53cc402a2f409fac9a77d08d073f0f4b5a46f986c624c6bdd1d289c9384a8ddd"
        ],
        [
         "9",
         "buqT5d2GJhs79dgi49hTXSFN5FaDHGy9",
         "c68f0e68898c773ee6ac45bc6dff845390ecb6db233f2ef1fb0f2ec5952bb96b",
         "SHA-256",
         null
        ],
        [
         "10",
         "Lf1BvyifxQSavtAvEzcVmdNjcwe47p1Q",
         "J1AGdHOTs0qmIjZACLdRvGR1kWvtEOy0CbA8LyVSn29etN1Co7TSUw==",
         "Blowfish",
         "2c130195e5bbe1d0b3fceccc52fc9e2e"
        ],
        [
         "11",
         "eNCjDePR6BhMZM5RPdJuMsC0GkMllJ4f",
         "h4jTmTVA6QMjmajTBah97vjSc+61uE85gs92e/WDuwIX0eParfnAa1P7F8JdubarsF10y8IvVgTlknQWWRtkhZr9ssTySvtzn5QP3X1WFl1a6NUlua7RNu/k16SoI7oJTgfvpczuWpJb7FZKksuYkfr1uYuF73JqqBdKAjsYPJzAkHNkBWeJhoRpVrspvlybEhzEvtbvyGM27VlMQBXQVvb5dcZWYx4qV7b0YK54ASbQc6wits8fYwBoNmo8zqM6XKjaSRfeiBDwsuTIlo2/AJUGTLDqq5pbEOYm28NEg1H2yrTKGor3vS09JcS/8rHIRGuwQn26vEyrArO1wLoAJA==",
         "RSA",
         "-----BEGIN PUBLIC KEY-----\nMIIBIjANBgkqhkiG9w0BAQEFAAOCAQ8AMIIBCgKCAQEAoy/UMlP9b65JZO39BW1P\nPM+rA9D1USedhkzp+KDs8QvNv/2yOUJeH9mOrHdu2LeXlxZflWGWycbuTGBAX2Pi\n7Rrqm6IvDpgABiSeAXhP4aTp9HVWppui77HlsQrhhq8JMHYGOGdsmB0YWK3VxxW6\nfN5juRYVb2t9lEaEp221Igi/scSQ4ol4+Lgm/tM5Anx9wz2tukIvhG+A20AzNF5M\nypB22TFHvwZYis5wqd0Ps8nS9+Nw+JxzVpQgv1KN5LwZVvsS37JT1y/HK9e+yZb7\nBxd0BZ/k/2EN1Ke7lF7fxR4dOwNo1O7A4kipLhtIVrwLB8buui7U8ab8R+ID1gMc\nTQIDAQAB\n-----END PUBLIC KEY-----"
        ],
        [
         "12",
         "skJHpKk9pueU3sZidpeTACtuXyTDwMN9",
         "9uWnLcogsfhwvAuMM/bHCRAaUmI9RHXnc903/5qTI0pOQi2KyNuTug==",
         "3DES",
         "14ac3874ea6559e2c291ad5e9777eb8252409d509feebb97"
        ],
        [
         "13",
         "elGLIcMSTbGqlScCjryKV7ZvinGuS6PP",
         "ure3ygHd9V5xKGCWraFwaPkAtbt45mahsd6UFUHjgXs=",
         "ChaCha20",
         "983f9107b90e7583c3a9f80f45878f8c89816f8bc4da2fcd58ff93456922aeb8"
        ],
        [
         "14",
         "yFnjR70Ztb4y2AwOuDSivuoGEhcM4L2y",
         "QbBIRvwd0PKFHd8BQ9sH+STwKAo9lwhooDF8fdEKxmyGNrqZ5FzQpA==",
         "3DES",
         "72b31c60126b8efd48ae64c867b92326735d63ca1a88a72e"
        ],
        [
         "15",
         "5Y2TkbRCcLgPQizJUgblvRWUjNSN9aEl",
         "PD3g3ke4N162B0UVvgXuomosHXVF7zJL/jOLc/K110EaMLuka0Ew1cQ3t1w4Sd32cxumtEItZ+MG+Aw9jGEX6Y1ybIjPL+1n4BsH2uMEULL6r1h+g8SsqyTbaJpC8cHcowDzm8kldiHjVLwrY5BImwaaBeJiUUIrWRKpgGFb4rnZGcqoiR+/zv7gqYZj1oXEoIdFGUQUuMLHYjxvAE9AIqijVYCnFnV/OwGnxWhywvvTv7LgqyCB9TOYz73GpBOBJF795Xci3wWsDcNh0ck4xdduULnX65KZ4HuTBfM/lPT4wJbo9NGznnWhJ7P/wAyWIksuoucqyZY5HzgJP7MOiw==",
         "RSA",
         "-----BEGIN PUBLIC KEY-----\nMIIBIjANBgkqhkiG9w0BAQEFAAOCAQ8AMIIBCgKCAQEAsWI9aAnJFbvUHg1mA3Yv\n+wPvSFcERVfnYbuZjLnrMK4tlKb6I1utxIHkoDvk/s8p1BkowOJf0acTMcV1Z2Eb\nU6tE2AmTLGxe8LkpS17Gk2Mr3g9MnwcRDgCRvPOlgQ8fKVlcwcGWrHzXoFo22Tk9\nQcrZpVNWwX/G3tWlUg+K2KhcdTeRCpqTEcuG23M9102L30zl7bPnDZDU4Zvjie6a\n9326vOfHFiia80llyEFUPwQ0uH43lTe+KCMS4tVjpw0ZlNaDWYTjPzFySbY0J1U2\npWjs7oqzBxoVmNPk2P76X1NCN1twFZx8oydEGPXdP7lib1/mPAV3XCxN+dLbCU0o\nRwIDAQAB\n-----END PUBLIC KEY-----"
        ],
        [
         "16",
         "t81rkcoAf7vqxQFEEcLqtHHU52LC1aOj",
         "sGFUAawocFyOK2skddvvyk2k94mrAyXfGFyFrGPtd6o=",
         "ChaCha20",
         "7c59428b0b982978e0b8d5f10edb50256759e6738c3066a095baa6d26e012c93"
        ],
        [
         "17",
         "pDARSt5MCwjWtY8sg8NejsY00qPsrbcK",
         "JeN8Nfb1H0yA/470hv862/9nVMdeuSgx23hx9S6tYuixANd/5r/UGA==",
         "3DES",
         "76b4715380223f2d353bf0c0b7faea1e1c45ae9feb5a5640"
        ],
        [
         "18",
         "1ApSaXvFODVNQVc14DSUIXlHI4S4MyTl",
         "0oq5OjjFHAvrIlBoHzx85r/KxRBcFiGhF/s6BqT60ac=",
         "RC4",
         "63b48bea59b912339cae5f7d30b27db0"
        ],
        [
         "19",
         "SaK2Ln6yKUlkrey6NpN4tnP5lQktsdJl",
         "hZq+mCm8JvvbH/2vlrnVdOBc8Er9phx6IyfyiQS2Eko=",
         "ChaCha20",
         "f8f1d53a024adf211bb70aa91b024c8360d7139614e58304a3ca15dd67c0f0df"
        ],
        [
         "20",
         "leGzh2kvueFAnBf0DhpUtlpVwLSm6sIF",
         "CTXS66uR1ezUwkH10EjMmn6jJDnKgO/mamJQeMyXaGo=",
         "RC4",
         "08cfb99e4b03ad0eae18ee4a3e0c32d1"
        ],
        [
         "21",
         "PsbrcXMFsqUIQcQLGHSAK9eFDySeS3YO",
         "Wm+nEawin+vHQzYvzL+xEnkIo/UTKuoeIgFiEeR/ItZcnMYRspChLA==",
         "Blowfish",
         "0dbde4d95b123ad4bde3b0a8cfdc14d8"
        ],
        [
         "22",
         "dEXwnV859gQTUPVERDF03V67AvorE0Fz",
         "RP/8UDMEvvwgpV7aVVF8kvYHB/eyaRFI4Nd8nUAwBgeezqeCL6Do7abthShpFKylxJUuUjhiVfQS1kjK8tzARFzhJTaaoSmezN2tVp3q+xyxgmEYTNnOpe3q3Ndmb9ToA20/WNOhGjq2qzjS3oBdfnK9ytyFlT7q6VotfkjZnB9d7im2MuMeDDj0HbYfuR435zDA33jB1mnRr17ljRUzybwWISEZ8KrLx2p5G517BMJeAwACBzMmC0WoKEUZ3umtqK/x38vyeH1Lzzpj1nc3J8aBfA3mJIdd9Qhmdem6QL7fCn7NpjQUVnAkjHNqBh5qHsBNfI5LBrc8dCwjFqOXKA==",
         "RSA",
         "-----BEGIN PUBLIC KEY-----\nMIIBIjANBgkqhkiG9w0BAQEFAAOCAQ8AMIIBCgKCAQEAvtuogBJHkICWpBHh9YD9\nKVkIR4kdt/3LW9wXheUOHY3GE+FEnd4TBBpaZxVFLX1tEsVHioeLOGfb5hwapBkF\n2PNF4+zzp8iTKmlBt3f5C3G41DEqVaCkFinPfmJw2qMRSpgAJozlNMZo84CW22Oq\n1WsMwTZWKh6mAuUnJwvdpE5XXzGD1UcshB61RuU3O4jxL+YyKexpyVst8ZZxiiOF\n3p6DFDdvvpsdZFLM3SI51/aF6IbjFpl9ZeSSUwWZiZtUHH80WQj3+a9K/MMuSK2l\nUCukMGnD+ZIF32nm9dGzCPpRu1e3iC0208wU7LhezmSYxY7qQyLsJM4IeRY/kuID\nLwIDAQAB\n-----END PUBLIC KEY-----"
        ],
        [
         "23",
         "zhvlDYMT3uqaZrulJwoyhExDcJg9XrNI",
         "DD4Kjeezwv/99fO5vRbF1eUIHWPy5AAPK37ZLurIWJ6ROLHGGdbnLQEKta8fVh/TmveCiq8Mi/RsJrQhOPHGlpVNsLu3XzfUw3mmzyJjOlRRZ5lJhWLeEGziJ6quQw6KgBBbsLoYRDFnvqNliQVojlmxMjJA3W/XmSBlAXygCE//nMn8RL0/UN5stOEm+JGk0Ki+uVNG3mG+hPFJ9NexGbBr8RMZjp0vMHTXdkvg6ufgBVepkWXmd5IExX2UuXqqomWtnznSdd8F8vqtIMmCUFtUJm/lKPW4djVQVnYU12HGZf3GQif2hE9cuWFOq9bCNszxiXmp5RYvjXSsfnrVQw==",
         "RSA",
         "-----BEGIN PUBLIC KEY-----\nMIIBIjANBgkqhkiG9w0BAQEFAAOCAQ8AMIIBCgKCAQEAoegYCWIgXsE7L1U60bS0\nditNYvDdfSp713Yz5Qdlyj8sHenQRGPyqd9YxvwGdVEgTRwWlwC4YSxNd+H4c1BD\nLW6pMeF8Ot34kikdDpfWdyE/vuMTEYsRhCRL2csixlJts78fOxGh1PhtIiv1IFdZ\ncDpqb6wbYYBkf3+bOYMyAVEBOXv2E6lPmU6bAMUAgWXNjeySuZWTOOCdBr3z7fVR\nup5umRyInFUMfkIzThQqZqeZbPQAQFqBJ7UDc8k942NuX06SYxNch2jwnmBS71U+\ncFd05WLejbDvWY5LCOrDAoNipX5fqM5vgOYwITy2gbi8w0ww79fHQhAtQRiAqjwh\nowIDAQAB\n-----END PUBLIC KEY-----"
        ],
        [
         "24",
         "YpqifChs0tyzKWt9UvredOycBWDGGpCE",
         "bOFpkNaMYzjNIZ5+XUGaHmjoWBb27f9xJfBFCQaBET3fSeR/qOIlbkl3mcgEVjdb",
         "AES",
         "ff57726e664073501667459d76f49494"
        ],
        [
         "25",
         "vytuDF2jocfkqpnpjYrLWnmUmz6MqQXh",
         "SwGfsExh9Bv4UvvVzd7/97uDdtcs4nUQ3/eo14wWzV6/mAbEURKa6g==",
         "DES",
         "46c5a17ad5d21858"
        ],
        [
         "26",
         "cSFw7utKWTPeRmva7jkS7BEXRcUr6vwA",
         "+b5WLRTIlOpDa7qj9HPMNPk8e/SmW6t6L8kfqzhMTgjIAAU5Vg/ueg==",
         "3DES",
         "6645effb84b3fad7baead960ada605a82ed28a239907c93c"
        ],
        [
         "27",
         "pDqDYJJ6inaeVFlxzneexLTscnyjghUo",
         "1fitF7dgwrzMzVq0SKq1IDhmMdqLaloChaeAqs4q5w0=",
         "ChaCha20",
         "3df01f76b4c981cef255740af677e0fbd98f4743b389dbeb22b8f2f73eb8f46f"
        ],
        [
         "28",
         "yz15G3JPnPIYt1fCCZVhNkBqt10oDx3a",
         "PckLOpbCVWZc54U+wQZw2PfQXlyMQ/CGhsEUAj8ipbR3ixFJpwRAiw==",
         "3DES",
         "405d62e622049dabba02fc1c051d6e4592e9d2c75009f07c"
        ],
        [
         "29",
         "wafQBixi5lUuRiDO7KqF0bbZdCLrfBkc",
         "08c698636362bf5890719130486de9c41d0553d8efaf74a657eb507feecb6df2",
         "SHA-256",
         null
        ],
        [
         "30",
         "vqpEcAh0pyOX6DjJNF3BlACpwhiohz68",
         "2wck/Ag8Db5OB1nEm/9usBGh8U5ZgmEpGWiFS+boou29GU9qUncMtA==",
         "Blowfish",
         "24c1792d29ffc687fc1128f77343f674"
        ],
        [
         "31",
         "kj42pDxomFwosvVRVsFJscshR3Rr87Bw",
         "eS5QeGvl5xVegTXX4x72fFwVyGwOjryZBK0yc4X10uTV8O5dYQy7oQ==",
         "DES",
         "cf0977d0c75e07ab"
        ],
        [
         "32",
         "fPS9Z1og88qwY0rh4VvCcNzKhP9p8CRV",
         "pgcHjoH4NE7iDnQi9IPOiint9oV/PVvFBNSF53CpYgg=",
         "ChaCha20",
         "47533d7160cb9838aa32cc6e0887cd5cf4c1c335d870a8923126beae0d599377"
        ],
        [
         "33",
         "Wp2LHwIFnUKyw7Eo5IPYt3JVuWxlBWHj",
         "52c421a9a30bf08ff46b857bca629355720c762572d0db2ca172ca892ea1c2c9",
         "SHA-256",
         null
        ],
        [
         "34",
         "trYL48u0k845dy4zEcuEfR4ZPjJNLdXc",
         "tfGJXfqld/uAOh2I3d+bH2aI31RtVgqDQsGMhPElVRY=",
         "ChaCha20",
         "546a710a328428cfdc028bdfff1d2483fa738eb34cda7b6bffaf96f3a99fac33"
        ],
        [
         "35",
         "crYHfmbd5cqYLjRBtKKnFg39j07OSNwY",
         "iEiU0JzdHq8kDti8GtGGXVdWiXHHqrnR8ycUDWYz/EUs9zZQbd/v7A==",
         "3DES",
         "fa244f79f4734ffdcf6defbb3bea64772bf82e69b45dbb5a"
        ],
        [
         "36",
         "9dIFme7O50nawDBwG71Rx6MBK6H9njob",
         "tX43L3VuQ6odwVLaqVa4R0EvCV5Zgf2j2PEZJCUWVB9VNnKeQKaa2jpjW86G+xZ8KOsZAwNnypbOOuQDxoLSAKS2WXGz9QLaGPOEb/b49yHVNWMDRM7/er4FiegrMZlCQ+7JUScS9f8SBisAE3RGWFS3pXevQIb3Pp9ynMjDuPnqz3WYZRuNm9dKI4pmioYi8fXdipu4iJezDzW6ksf1kSceSfLKWd2/mCjj5+IL0BomXh9gu/Ou4wnr67AkrI4KpGzKnP8lI05tzoB3QfEsCLqoBj56LfTlilcW4ROvndVSWhlKfalKOzRYksnU0rHyyPC0kofL3vGvOmrEeAKhsA==",
         "RSA",
         "-----BEGIN PUBLIC KEY-----\nMIIBIjANBgkqhkiG9w0BAQEFAAOCAQ8AMIIBCgKCAQEA0ZOra6sSjUzb8/7QyjxZ\nTTHxmQXUZDUT3fOJ314OZGVrPk/60UIdchK95ftCCFsEYi1nq5B+idjyXZ19DKrL\nuanbG+tO20RcR0At7mPPBGazv2C1ICgpDgbwIFXu64TeHSWoltiu/Ii/zbaaLxRl\nxd23FsMbtkSH3ylUVP9Uq8ZGMJ/CcFthU4uu7V81Wc3gNyXoK0WVy3dBOKjrakXO\nCsUtrfEt+NCF01qHXbhPSKY50jI0dK1+E9TEBGt25m+jQSqpGlLSEA7mRUfGaPqJ\nZkloz3Raumygi6ozzb7VxXboo0A7e8j2sxC3H014zNlQ/52Sa+YvUt2jUnmStYjp\njQIDAQAB\n-----END PUBLIC KEY-----"
        ],
        [
         "37",
         "SI9QKauYCceGePOSW5GYfa5h9Bvoir5X",
         "66ZkCiLnISjjbiddSewIBaFK0cV6dArrhI1h5Id2uhaFZ2yMllev4w==",
         "Blowfish",
         "88a8bc568f7f314f861eaaf4fea81f6b"
        ],
        [
         "38",
         "ehEw9jcm3s6J8bMJfcRb1UEHGEAAyUFQ",
         "776e66017b96a865222da16b1ec5338512028d149861f020d1f2e9e4fb591ff1",
         "SHA-256",
         null
        ],
        [
         "39",
         "lM4aR2bGRhJAi5guhRRv3eoHNQYVy5qh",
         "rKV0jltAxaRBpNn4+HEQfpl2u6gIyX5eRBRQlwg4rXpWDPCpSpho4bJpx6U+igip",
         "AES",
         "b1021c85bd67ac197eb02f51c4dc0f81"
        ],
        [
         "40",
         "NW3aPI2S3fLndaLtcGETodBAT8GS4nhD",
         "/5sc23iDfMN2cPuYx3bWoYTgO7mSNfIBYAm7LDZO/BE=",
         "ChaCha20",
         "c67ae2d4962bc6a452f568c88160e53e0be12dacc5852de3bd5c5b98013c938b"
        ],
        [
         "41",
         "euKoIGsBqlPTXd76oClSGbkVFNIUHfeS",
         "v2ShlGq5T1ZfYBkObKcvlF+e83h61LoU4XuRPwQtx7CIHj7H+dJigs9a2UqxqMgJ",
         "AES",
         "785bef860458523675b1c05bfbc74676"
        ],
        [
         "42",
         "bRwRuNxwD2GDBpKMttgQwewppo4C6tao",
         "AIdlfJRWzy9vpyQERet/aLwnTyqa5AQC4e2f+if60YAyTirkbhz/yA==",
         "3DES",
         "003d6c5d294af9150da68ee3bca1c2c961911cc365b3ee1e"
        ],
        [
         "43",
         "CVSRZn0tYLG3I2MsppdlBEazDpgaTRct",
         "SKPe745hhwuYyNMzmbtSmJYdD15+adR+JgjN8HOu/R8l1Q4Jsy+N+ZGnwVJI/A0eDRZSY8P/KkwwzVtMULQwGyDp0TrYdLxTb2NpUl3KlkdsDVT8C9e+HnFZMKPDQd07jxuDOPXdxqZvrBLUmAz30mizkest90YDtueDUwTYcwOr3KbiYFUdm+itfzHr5+bnl279s4rBh0BTAfYm+6U/wggUBjimpCS5U49rgLBhjOjiDewOt5yX9X0DP0TUrQvQHCKrIZUvWXQ/lA4p6OCopri/frBixOXTSpAxvdgWjAlDWu/FXUBcbAsbX36wCbd/4OvfFkQhlG8bZ5P9EwzKtQ==",
         "RSA",
         "-----BEGIN PUBLIC KEY-----\nMIIBIjANBgkqhkiG9w0BAQEFAAOCAQ8AMIIBCgKCAQEAtdot7bEuiHxKOa2IRv5u\nQnxleGi0VN3FHx4/QEpF/GZI0ml1ecDWmR/bRX2KEM5UA81yZPfYIaYjY2rd8B+Z\nRxpjc7OltOd2V5wv5Gm6pYiHbqNzzpyKZwmrG1+qDdgQyIfGC7foY+D8UyTJR/7g\nb65Nc+B/BUWU9S3C4Jaqu+5SZS3PPoBXYsuRHqFlufiGR6o83U9Vs2Z6hYspLY5E\nqDkFiWV7/g3jcCWqOGNVDh4HZjE4pCnrBH28obQ8FkjwFxeiEpIJ7Jeac9xgsnUj\nN8md4zW4pDc0yPzoQDEeRL+jBIwgOCiBZOiQUjFKavgcOjBwQ3GmBlSxWBHN/vYU\ndwIDAQAB\n-----END PUBLIC KEY-----"
        ],
        [
         "44",
         "QT0q1E3kndJfD8KRvUT3eR5bjhGtmdYz",
         "7J5maZmhUufwcpd9y2Yx0pULdxOI+7eoQ/JBTq5G0J2x5m3opwe7ow==",
         "3DES",
         "6b3cf825abbeed88d42956276eea5bf62aa78007c793d471"
        ],
        [
         "45",
         "qLBCUXcBkk7MNhXgsuz7WOPILMgPmmRE",
         "tspaD3DKp/hbuZL2qp59erUcivZgbFPo7aRnsn+HGgMBmss+92C9yNTueze0GlEQ",
         "AES",
         "5045b5a2ebdac86f0bb998b0cc450f5e"
        ],
        [
         "46",
         "23IXd2r2wpU5pGtaI1AoIQlCPIrhcUqo",
         "ocyiBCV1DbtJVjv/u0ubbnfT0L+bTnW27UD4yPrEwZVB8HkUjiHXUw==",
         "3DES",
         "c1a3358fa71e5accf84186f0aa8fc88632af2803b92dda9f"
        ],
        [
         "47",
         "wYw935FAhHD1FYet8K4Wut2i3CRZbu9L",
         "bGMcipBkJoUI9BGA3Lscu3lNZWdWLYnqm4ns1BYuhtF2ooilANE01I8EgcdD3SLGqWhso+6tGNGSzR5p504HkAC2rGZpGMFJU3mBsOeZYOsOecw6/VITweV5MBXY43qNamF2t7cf2KJ9awgENRwbS1qcvNzIcDeQ1p/PmJH8rfIP0OrlsbWHpOQkgxgXtDGCo49lbId1n/239cTEE7xR4knJi3SS6cPwuiGcoJ2kltJ+ULejvkXIhZhiyZ/LSDnbvw0MF+CsFOFQBAuPi8Odl/umoYpBhJVEp89m2eHRe2czpKahGEU3BofQyx0nEkzXbFepEnuaI6IOKZp+57i1Dw==",
         "RSA",
         "-----BEGIN PUBLIC KEY-----\nMIIBIjANBgkqhkiG9w0BAQEFAAOCAQ8AMIIBCgKCAQEA3Wtn+8bmb1MqD20AQgms\nQH2uwgqcyL52MBJ0E7xbWdzX97+0iajEQsASQJcqN5FFYUGyAtpF7Qi9G0A9AITB\nLQV2A+7oK6A2j+7TBW4+E8yx90lteUZb7GrVCfJwI4/NnP3WMG+0gA0FI0Oik6Fu\nxSTNBSja8YvW1LaoYbqf5ccd+wvvDMJKn64GFE8a1w/RHZusDVjXQtj13caDp7W7\nxF00rkEYJoSNQ1aIdFwLrdCOB+yypMHkyEgMF/RkivXQ5d34zbdzn+c4J5HAxYHD\nEiN9+25ks0BuW7GsneNBtxcqULH5QDT2MHU5s+SzV0Wc2uHAyKx14G+2fQ0QUj02\n3QIDAQAB\n-----END PUBLIC KEY-----"
        ],
        [
         "48",
         "PqCNEYAZWaCO16I9tHeUhqcntxm8EG3B",
         "7FHwZWaqFK5/4UK2PQxXVnvToM8rUgESHVfst77yb0Q=",
         "ChaCha20",
         "0d73534ea563311584c8caeca3497e66fca4706645c2b849f3e596ab5a284fed"
        ],
        [
         "49",
         "ecuTHyusQPs1Lh31RCiSFiFknyXxbxzE",
         "bdd15f1434dcf8c9a74171ade4c225a58f37420ee3ebf139bf57dfbd11a74c89",
         "SHA-256",
         null
        ]
       ],
       "shape": {
        "columns": 4,
        "rows": 20000
       }
      },
      "text/html": [
       "<div>\n",
       "<style scoped>\n",
       "    .dataframe tbody tr th:only-of-type {\n",
       "        vertical-align: middle;\n",
       "    }\n",
       "\n",
       "    .dataframe tbody tr th {\n",
       "        vertical-align: top;\n",
       "    }\n",
       "\n",
       "    .dataframe thead th {\n",
       "        text-align: right;\n",
       "    }\n",
       "</style>\n",
       "<table border=\"1\" class=\"dataframe\">\n",
       "  <thead>\n",
       "    <tr style=\"text-align: right;\">\n",
       "      <th></th>\n",
       "      <th>Plaintext</th>\n",
       "      <th>Ciphertext</th>\n",
       "      <th>Algorithm</th>\n",
       "      <th>Key</th>\n",
       "    </tr>\n",
       "  </thead>\n",
       "  <tbody>\n",
       "    <tr>\n",
       "      <th>0</th>\n",
       "      <td>DdClLbN6qfFRtpVyP033zCjp0FndJ53O</td>\n",
       "      <td>9HtvDQw6d0hnjkkokNpaAa7aO4zxbvPEfqpKr3PwnnMo6x...</td>\n",
       "      <td>Blowfish</td>\n",
       "      <td>1a1ea0429141dc2bf9041d41f825553f</td>\n",
       "    </tr>\n",
       "    <tr>\n",
       "      <th>1</th>\n",
       "      <td>SJktYGKNee2MKBz1dsoyntoC0LrpmZOX</td>\n",
       "      <td>BDu9JxclhcofdpFkBRLTYVLD21dg2tqY/NFlN1CRpls=</td>\n",
       "      <td>RC4</td>\n",
       "      <td>ee1e67381c4dfbdef477a2b58726b3eb</td>\n",
       "    </tr>\n",
       "    <tr>\n",
       "      <th>2</th>\n",
       "      <td>32VKfI0uqZgPUmWgHgPFFcwDWG1ONHWM</td>\n",
       "      <td>603b2ef6a5f42bb1924fea4d22f1af6b49cf8abfaf385f...</td>\n",
       "      <td>SHA-256</td>\n",
       "      <td>NaN</td>\n",
       "    </tr>\n",
       "    <tr>\n",
       "      <th>3</th>\n",
       "      <td>qKIpLiJrQ81sTRK2U1OSH0i6OpiBYDul</td>\n",
       "      <td>7cJcDg85U4BuuCEreK+C7LouVenzQHJ8FFII3Ei2yp3Ud8...</td>\n",
       "      <td>3DES</td>\n",
       "      <td>4d78801cb57f077cff9bfaddc0342a3dd9acde28d2decb80</td>\n",
       "    </tr>\n",
       "    <tr>\n",
       "      <th>4</th>\n",
       "      <td>7yOAGHJ0f2KfEqcyVce6tJ5FJmuhXkLC</td>\n",
       "      <td>LMhm3BjIcUb/1eqdlvRyI/rcGWpF/2xvkdNsCosd+hIKdi...</td>\n",
       "      <td>AES</td>\n",
       "      <td>3f3beaa14cfc3987dd370495a4956625</td>\n",
       "    </tr>\n",
       "    <tr>\n",
       "      <th>...</th>\n",
       "      <td>...</td>\n",
       "      <td>...</td>\n",
       "      <td>...</td>\n",
       "      <td>...</td>\n",
       "    </tr>\n",
       "    <tr>\n",
       "      <th>19995</th>\n",
       "      <td>onHpfzKuaNcCbjEIjqvJgBnAEx4kFncp</td>\n",
       "      <td>d9d76048703d7bf0bb06e565ecffe5ac316a2eb2c2d090...</td>\n",
       "      <td>SHA-256</td>\n",
       "      <td>NaN</td>\n",
       "    </tr>\n",
       "    <tr>\n",
       "      <th>19996</th>\n",
       "      <td>OB7YwgGANOdsttBvIvXlVD2eBVudDUOp</td>\n",
       "      <td>yBys9z6ay2KyzPa7LZjzbtXAJiYqWbRoV7LJhZJIniDdV+...</td>\n",
       "      <td>DES</td>\n",
       "      <td>d48ca6012cc70ee6</td>\n",
       "    </tr>\n",
       "    <tr>\n",
       "      <th>19997</th>\n",
       "      <td>k4fkCoU1tcvXYuhoQERLRL6sfCRmojhh</td>\n",
       "      <td>1f4603851b0148a93e0b4fd020ace87314af5838ab959d...</td>\n",
       "      <td>SHA-256</td>\n",
       "      <td>NaN</td>\n",
       "    </tr>\n",
       "    <tr>\n",
       "      <th>19998</th>\n",
       "      <td>5PiG6IMYkVCwNeU0TmdGIB6EZSE191Dq</td>\n",
       "      <td>jm8uRnVsW8cDTHIQM/hr/P3UsJjBrdxoFaLe6Aw8Zi4knn...</td>\n",
       "      <td>RSA</td>\n",
       "      <td>-----BEGIN PUBLIC KEY-----\\nMIIBIjANBgkqhkiG9w...</td>\n",
       "    </tr>\n",
       "    <tr>\n",
       "      <th>19999</th>\n",
       "      <td>duvzw6s9wQ0jZrlQLEEOn3aVL4bLdDLW</td>\n",
       "      <td>paYWEnuTXMxLna8BAgCiX/soTltvevafq5zSR0YyzojyLJ...</td>\n",
       "      <td>RSA</td>\n",
       "      <td>-----BEGIN PUBLIC KEY-----\\nMIIBIjANBgkqhkiG9w...</td>\n",
       "    </tr>\n",
       "  </tbody>\n",
       "</table>\n",
       "<p>20000 rows × 4 columns</p>\n",
       "</div>"
      ],
      "text/plain": [
       "                              Plaintext  \\\n",
       "0      DdClLbN6qfFRtpVyP033zCjp0FndJ53O   \n",
       "1      SJktYGKNee2MKBz1dsoyntoC0LrpmZOX   \n",
       "2      32VKfI0uqZgPUmWgHgPFFcwDWG1ONHWM   \n",
       "3      qKIpLiJrQ81sTRK2U1OSH0i6OpiBYDul   \n",
       "4      7yOAGHJ0f2KfEqcyVce6tJ5FJmuhXkLC   \n",
       "...                                 ...   \n",
       "19995  onHpfzKuaNcCbjEIjqvJgBnAEx4kFncp   \n",
       "19996  OB7YwgGANOdsttBvIvXlVD2eBVudDUOp   \n",
       "19997  k4fkCoU1tcvXYuhoQERLRL6sfCRmojhh   \n",
       "19998  5PiG6IMYkVCwNeU0TmdGIB6EZSE191Dq   \n",
       "19999  duvzw6s9wQ0jZrlQLEEOn3aVL4bLdDLW   \n",
       "\n",
       "                                              Ciphertext Algorithm  \\\n",
       "0      9HtvDQw6d0hnjkkokNpaAa7aO4zxbvPEfqpKr3PwnnMo6x...  Blowfish   \n",
       "1           BDu9JxclhcofdpFkBRLTYVLD21dg2tqY/NFlN1CRpls=       RC4   \n",
       "2      603b2ef6a5f42bb1924fea4d22f1af6b49cf8abfaf385f...   SHA-256   \n",
       "3      7cJcDg85U4BuuCEreK+C7LouVenzQHJ8FFII3Ei2yp3Ud8...      3DES   \n",
       "4      LMhm3BjIcUb/1eqdlvRyI/rcGWpF/2xvkdNsCosd+hIKdi...       AES   \n",
       "...                                                  ...       ...   \n",
       "19995  d9d76048703d7bf0bb06e565ecffe5ac316a2eb2c2d090...   SHA-256   \n",
       "19996  yBys9z6ay2KyzPa7LZjzbtXAJiYqWbRoV7LJhZJIniDdV+...       DES   \n",
       "19997  1f4603851b0148a93e0b4fd020ace87314af5838ab959d...   SHA-256   \n",
       "19998  jm8uRnVsW8cDTHIQM/hr/P3UsJjBrdxoFaLe6Aw8Zi4knn...       RSA   \n",
       "19999  paYWEnuTXMxLna8BAgCiX/soTltvevafq5zSR0YyzojyLJ...       RSA   \n",
       "\n",
       "                                                     Key  \n",
       "0                       1a1ea0429141dc2bf9041d41f825553f  \n",
       "1                       ee1e67381c4dfbdef477a2b58726b3eb  \n",
       "2                                                    NaN  \n",
       "3       4d78801cb57f077cff9bfaddc0342a3dd9acde28d2decb80  \n",
       "4                       3f3beaa14cfc3987dd370495a4956625  \n",
       "...                                                  ...  \n",
       "19995                                                NaN  \n",
       "19996                                   d48ca6012cc70ee6  \n",
       "19997                                                NaN  \n",
       "19998  -----BEGIN PUBLIC KEY-----\\nMIIBIjANBgkqhkiG9w...  \n",
       "19999  -----BEGIN PUBLIC KEY-----\\nMIIBIjANBgkqhkiG9w...  \n",
       "\n",
       "[20000 rows x 4 columns]"
      ]
     },
     "execution_count": 13,
     "metadata": {},
     "output_type": "execute_result"
    }
   ],
   "source": [
    "import pandas as pd\n",
    "\n",
    "df2 = pd.read_csv(\"cryptography_dataset_enhanced.csv\")\n",
    "df2"
   ]
  },
  {
   "cell_type": "code",
   "execution_count": 14,
   "metadata": {},
   "outputs": [
    {
     "name": "stdout",
     "output_type": "stream",
     "text": [
      "Algorithm\n",
      "Blowfish    2533\n",
      "DES         2514\n",
      "RC4         2510\n",
      "ChaCha20    2479\n",
      "Name: count, dtype: int64\n"
     ]
    }
   ],
   "source": [
    "df2 = df2[~df2['Algorithm'].isin(['AES', 'RSA', 'SHA-256', '3DES'])]\n",
    "\n",
    "df2 = df2.dropna(subset=['Algorithm'])\n",
    "\n",
    "print(df2['Algorithm'].value_counts())\n"
   ]
  },
  {
   "cell_type": "code",
   "execution_count": 15,
   "metadata": {},
   "outputs": [
    {
     "name": "stdout",
     "output_type": "stream",
     "text": [
      "{'Blowfish': 0, 'ChaCha20': 1, 'DES': 2, 'ECC': 3, 'RC4': 4}\n"
     ]
    }
   ],
   "source": [
    "label_mapping = dict(zip(label_encoder.classes_, label_encoder.transform(label_encoder.classes_)))\n",
    "print(label_mapping)\n"
   ]
  },
  {
   "cell_type": "code",
   "execution_count": 16,
   "metadata": {},
   "outputs": [
    {
     "name": "stdout",
     "output_type": "stream",
     "text": [
      "Test Accuracy: 0.2501\n"
     ]
    }
   ],
   "source": [
    "# Load dataset\n",
    "X_test_features2 = df2[\"Ciphertext\"]\n",
    "y_test2 = df2[\"Algorithm\"]\n",
    "\n",
    "y_test2 = y_test2.map(label_mapping)\n",
    "\n",
    "# Check for NaN values\n",
    "if y_test2.isna().sum() > 0:\n",
    "    print(\"Warning: Found NaN values in y_test2 after mapping!\")\n",
    "    print(y_test2[y_test2.isna()])  # Print missing values\n",
    "    y_test2 = y_test2.dropna()  # Drop rows with missing values\n",
    "\n",
    "# Ensure X_test_features2 has matching indices\n",
    "X_test_features2 = X_test_features2.loc[y_test2.index]\n",
    "\n",
    "X_test_seq2 = torch.tensor([text_to_sequence(text) for text in X_test_features2], dtype=torch.long)\n",
    "y_test_tensor2 = torch.tensor(y_test2.astype(int).values, dtype=torch.long)\n",
    "\n",
    "test_dataset2 = EncryptionDataset(X_test_seq2, y_test_tensor2)\n",
    "test_loader2 = DataLoader(test_dataset2, batch_size=batch_size, shuffle=False)\n",
    "\n",
    "model.eval()\n",
    "predictions = []\n",
    "true_labels = []\n",
    "\n",
    "with torch.no_grad():\n",
    "    for batch_X, batch_y in test_loader2:\n",
    "        outputs = model(batch_X)\n",
    "        _, predicted = torch.max(outputs, 1)\n",
    "        predictions.extend(predicted.cpu().numpy())\n",
    "        true_labels.extend(batch_y.cpu().numpy())\n",
    "\n",
    "# Compute accuracy\n",
    "from sklearn.metrics import accuracy_score\n",
    "accuracy = accuracy_score(true_labels, predictions)\n",
    "print(f\"Test Accuracy: {accuracy:.4f}\")\n"
   ]
  },
  {
   "cell_type": "code",
   "execution_count": null,
   "metadata": {},
   "outputs": [],
   "source": []
  }
 ],
 "metadata": {
  "kernelspec": {
   "display_name": "Python 3",
   "language": "python",
   "name": "python3"
  },
  "language_info": {
   "codemirror_mode": {
    "name": "ipython",
    "version": 3
   },
   "file_extension": ".py",
   "mimetype": "text/x-python",
   "name": "python",
   "nbconvert_exporter": "python",
   "pygments_lexer": "ipython3",
   "version": "3.12.4"
  }
 },
 "nbformat": 4,
 "nbformat_minor": 2
}
